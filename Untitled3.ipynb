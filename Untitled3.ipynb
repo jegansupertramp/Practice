{
 "cells": [
  {
   "cell_type": "code",
   "execution_count": 1,
   "metadata": {},
   "outputs": [],
   "source": [
    "\n",
    "import math\n",
    "import os\n",
    "import random\n",
    "import re\n",
    "import sys\n",
    "from collections import Counter\n",
    "\n",
    "# Complete the twoStrings function below.\n",
    "def twoStrings(s1, s2):\n",
    "    for c in set(list(s1)):\n",
    "        if c in list(s2):\n",
    "            return \"YES\"\n",
    "    return \"NO\"\n",
    "    "
   ]
  },
  {
   "cell_type": "code",
   "execution_count": 2,
   "metadata": {},
   "outputs": [],
   "source": [
    "import math\n",
    "import os\n",
    "import random\n",
    "import re\n",
    "import sys\n",
    "\n",
    "# Complete the rotLeft function below.\n",
    "def rotLeft(a, d):\n",
    "    i = 0\n",
    "    res = []\n",
    "    while(i<len(a)):\n",
    "        res.append(a[(i+d)%len(a)])\n",
    "\n",
    "        i +=1\n",
    "    return res"
   ]
  },
  {
   "cell_type": "code",
   "execution_count": 3,
   "metadata": {},
   "outputs": [],
   "source": [
    "\n",
    "import math\n",
    "import os\n",
    "import random\n",
    "import re\n",
    "import sys\n",
    "\n",
    "# Complete the hourglassSum function below.\n",
    "def hourglassSum(arr):\n",
    "    n = len(arr)\n",
    "    m = len(arr[0])\n",
    "    result = -sys.maxsize\n",
    "    for i in range(1, n-1):\n",
    "        for j in range(1, m-1):\n",
    "            result = max(result, arr[i-1][j-1]+arr[i-1][j]+arr[i-1][j+1]+arr[i+1][j-1]+arr[i+1][j]+arr[i+1][j+1]+arr[i][j])\n",
    "    return result\n"
   ]
  },
  {
   "cell_type": "code",
   "execution_count": 4,
   "metadata": {},
   "outputs": [],
   "source": [
    "import os\n",
    "import sys\n",
    "\n",
    "#\n",
    "# Complete the simpleArraySum function below.\n",
    "#\n",
    "def simpleArraySum(ar):\n",
    "    #\n",
    "    # Write your code here.\n",
    "    #\n",
    "    return sum(ar)"
   ]
  },
  {
   "cell_type": "code",
   "execution_count": 5,
   "metadata": {},
   "outputs": [],
   "source": [
    "import math\n",
    "import os\n",
    "import random\n",
    "import re\n",
    "import sys\n",
    "\n",
    "# Complete the diagonalDifference function below.\n",
    "def diagonalDifference(arr):\n",
    "    # print(arr)\n",
    "    n = len(arr)\n",
    "    d1 = d2 = 0\n",
    "    for i in range(0, n):\n",
    "        d1 = d1 + arr[i][i]\n",
    "        d2 = d2 + arr[i][n-1-i]\n",
    "    return abs(d1-d2)"
   ]
  },
  {
   "cell_type": "code",
   "execution_count": 7,
   "metadata": {},
   "outputs": [
    {
     "ename": "SyntaxError",
     "evalue": "invalid syntax (<ipython-input-7-2980cf7f9c97>, line 18)",
     "output_type": "error",
     "traceback": [
      "\u001b[0;36m  File \u001b[0;32m\"<ipython-input-7-2980cf7f9c97>\"\u001b[0;36m, line \u001b[0;32m18\u001b[0m\n\u001b[0;31m    print (f'{plus / n}\\n{minus / n}\\n{zeros / n}')\u001b[0m\n\u001b[0m                                                 ^\u001b[0m\n\u001b[0;31mSyntaxError\u001b[0m\u001b[0;31m:\u001b[0m invalid syntax\n"
     ]
    }
   ],
   "source": [
    "\n",
    "import math\n",
    "import os\n",
    "import random\n",
    "import re\n",
    "import sys\n",
    "\n",
    "# Complete the plusMinus function below.\n",
    "def plusMinus(arr):\n",
    "    n = len(arr)\n",
    "    plus = 0\n",
    "    minus = 0\n",
    "    zeros = 0\n",
    "    for i in range(0, n):\n",
    "        plus += (1 if arr[i] > 0 else 0)\n",
    "        minus += (1 if arr[i] < 0 else 0)\n",
    "        zeros += (1 if arr[i] == 0 else 0)\n",
    "    print (f'{plus / n}\\n{minus / n}\\n{zeros / n}')\n"
   ]
  },
  {
   "cell_type": "code",
   "execution_count": 8,
   "metadata": {},
   "outputs": [],
   "source": [
    "import math\n",
    "import os\n",
    "import random\n",
    "import re\n",
    "import sys\n",
    "\n",
    "# Complete the staircase function below.\n",
    "def staircase(n):\n",
    "    stair = \"\"\n",
    "    for i in range(n-1, -1, -1):\n",
    "        for j in range(0, i):\n",
    "            stair += \" \"\n",
    "        for k in range(i, n):\n",
    "            stair += \"#\"\n",
    "        print(stair)\n",
    "        stair = \"\"\n"
   ]
  },
  {
   "cell_type": "code",
   "execution_count": 9,
   "metadata": {},
   "outputs": [],
   "source": [
    "import os\n",
    "import sys\n",
    "\n",
    "#\n",
    "# Complete the timeConversion function below.\n",
    "#\n",
    "def timeConversion(s):\n",
    "    #\n",
    "    # Write your code here.\n",
    "    #\n",
    "    time = s\n",
    "    h, m, s = map(int, time[:-2].split(':'))\n",
    "    p = time[-2:]\n",
    "    h = h % 12 + (p.upper() == 'PM') * 12\n",
    "    return(('%02d:%02d:%02d') % (h, m, s))\n"
   ]
  },
  {
   "cell_type": "code",
   "execution_count": 10,
   "metadata": {},
   "outputs": [],
   "source": [
    "import math\n",
    "import os\n",
    "import random\n",
    "import re\n",
    "import sys\n",
    "\n",
    "# Complete the sockMerchant function below.\n",
    "def sockMerchant(n, ar):\n",
    "    lookup = [False]* n\n",
    "    result = 0\n",
    "    for item in ar:\n",
    "        if lookup[item%n] is True:\n",
    "            result += 1\n",
    "            lookup[item%n] = False\n",
    "        else:\n",
    "            lookup[item%n] = True\n",
    "    return result"
   ]
  },
  {
   "cell_type": "code",
   "execution_count": 1,
   "metadata": {},
   "outputs": [],
   "source": [
    "import math\n",
    "import os\n",
    "import random\n",
    "import re\n",
    "import sys\n",
    "\n",
    "class LookUp(object):\n",
    "    def __init__(self, input1):\n",
    "        self.store = [0] * len(input1)\n",
    "    def get(self, i):\n",
    "        return 0 if i < 0 else self.store[i]\n",
    "    def set(self, i, value):\n",
    "        self.store[i] = value\n",
    "# Complete the repeatedString function below.\n",
    "def repeatedString(s, n):\n",
    "    str_len = len(s)\n",
    "    lookup = LookUp(s)\n",
    "    for i in range(0, str_len):\n",
    "        if(s[i] == 'a'):\n",
    "            lookup.set(i, lookup.get(i-1) + 1)\n",
    "        else:\n",
    "            lookup.set(i, lookup.get(i-1))\n",
    "    print(lookup.get(len(s)-1))\n",
    "    pre_calc = int(n / str_len) * lookup.get(len(s)-1)\n",
    "    remaining_letters = n % str_len\n",
    "    return pre_calc + lookup.get(remaining_letters - 1)\n"
   ]
  },
  {
   "cell_type": "code",
   "execution_count": 4,
   "metadata": {},
   "outputs": [],
   "source": [
    "import math\n",
    "import os\n",
    "import random\n",
    "import re\n",
    "import sys\n",
    "from collections import Counter\n",
    "\n",
    "# Complete the twoStrings function below.\n",
    "def twoStrings(s1, s2):\n",
    "    for c in set(list(s1)):\n",
    "        if c in list(s2):\n",
    "            return \"YES\"\n",
    "    return \"NO\"\n",
    "    "
   ]
  },
  {
   "cell_type": "code",
   "execution_count": 5,
   "metadata": {},
   "outputs": [],
   "source": [
    "\n",
    "import math\n",
    "import os\n",
    "import random\n",
    "import re\n",
    "import sys\n",
    "\n",
    "# Complete the superDigit function below.\n",
    "def superDigit(n, k):\n",
    "    c = list(str(n))\n",
    "    s = list(map(lambda x: int(ord(x)-ord('0')), c))\n",
    "    t = sum(s) * k\n",
    "    while int(t / 10) > 0:\n",
    "        c = list(str(t))\n",
    "        s = list(map(lambda x: int(ord(x)-ord('0')), c))\n",
    "        t = sum(s)\n",
    "    return t\n"
   ]
  },
  {
   "cell_type": "code",
   "execution_count": 10,
   "metadata": {},
   "outputs": [],
   "source": [
    "\n",
    "\n",
    "# Enter your code here. Read input from STDIN. Print output to STDOUT\n",
    "'''\n",
    "class Node:\n",
    "      def __init__(self,info): \n",
    "          self.info = info  \n",
    "          self.left = None  \n",
    "          self.right = None \n",
    "           \n",
    "\n",
    "       // this is a node of the tree , which contains info as data, left , right\n",
    "'''\n",
    "\n",
    "def lca(root, v1, v2):\n",
    "  #Enter your code here\n",
    "  if root is None:\n",
    "      return None\n",
    "  if min(v1, v2) <= root.info <= max(v1, v2):\n",
    "      return root\n",
    "  elif min(v1, v2) <= root.info:\n",
    "      return lca(root.left, v1, v2)\n",
    "  elif root.info <= max(v1, v2):\n",
    "      return lca(root.right, v1, v2)\n",
    "  return None\n"
   ]
  },
  {
   "cell_type": "code",
   "execution_count": null,
   "metadata": {},
   "outputs": [],
   "source": [
    "\n",
    "class Node(object):\n",
    "    def __init__(self, value):\n",
    "        self.value = value\n",
    "        self.left = None\n",
    "        self.right = None\n",
    "    def insert(self, value):\n",
    "        if(value > self.value):\n",
    "            if(self.right == None):\n",
    "                self.right = Node(value)\n",
    "            else:\n",
    "                self.right.insert(value)\n",
    "        else:\n",
    "            if(self.left == None):\n",
    "                self.left = Node(value)\n",
    "            else:\n",
    "                self.left.insert(value)\n",
    "    def printTree(self, node):\n",
    "        if(node.left):\n",
    "            printTree(node.left)\n",
    "        if(self.left == None and self.right == None):\n",
    "        if(node.right):\n",
    "            printTree(node.right)\n",
    "    "
   ]
  },
  {
   "cell_type": "code",
   "execution_count": 8,
   "metadata": {},
   "outputs": [],
   "source": [
    "import math\n",
    "import os\n",
    "import random\n",
    "import re\n",
    "import sys\n",
    "import collections\n",
    "# Complete the isBalanced function below.\n",
    "def isBalanced(s):\n",
    "    ss = []\n",
    "    opening = ['{', '[', '(']\n",
    "    closing = ['}', ']', ')']\n",
    "    m = {'}':'{', ']':'[', ')':'('}\n",
    "    for c in list(s):\n",
    "        if(c in opening):\n",
    "            ss.append(c)\n",
    "            continue\n",
    "        if(c in closing):\n",
    "            if(len(ss) == 0):\n",
    "                return \"NO\"\n",
    "            if(ss.pop() != m[c]):\n",
    "                return \"NO\"\n",
    "    if(len(ss) == 0):\n",
    "        return \"YES\"\n",
    "    return \"NO\"\n"
   ]
  },
  {
   "cell_type": "code",
   "execution_count": 9,
   "metadata": {},
   "outputs": [
    {
     "data": {
      "text/plain": [
       "'NO'"
      ]
     },
     "execution_count": 9,
     "metadata": {},
     "output_type": "execute_result"
    }
   ],
   "source": [
    "isBalanced('[()')"
   ]
  },
  {
   "cell_type": "code",
   "execution_count": 15,
   "metadata": {},
   "outputs": [],
   "source": [
    "class Lookup(object):\n",
    "    def __init__(self, n):\n",
    "        self.store = [[0]*n]*n\n",
    "    def setValue(self, i, j, value):\n",
    "        if((0 <= i < n) and (j < n and i <= j)):\n",
    "            self.store[i][j]=value\n",
    "    def getValue(self, i, j):\n",
    "        if((0 <= i < n) and (j < n and i <= j)):\n",
    "            return self.store[i][j]\n",
    "        return 0\n",
    "    \n",
    "arr = [1,3,4,2]"
   ]
  },
  {
   "cell_type": "code",
   "execution_count": null,
   "metadata": {},
   "outputs": [],
   "source": [
    "def maxSubsetSum(arr):\n",
    "    "
   ]
  },
  {
   "cell_type": "code",
   "execution_count": null,
   "metadata": {},
   "outputs": [],
   "source": [
    "lookup = Lookup(len(arr))\n",
    "\n",
    "for i in range(0, len(arr)):\n",
    "    lookup.setValue(i, i, arr[i])\n",
    "\n",
    "for i in range(0, len(arr)):\n",
    "    for j in range(0, i):\n",
    "        if(lookup.getValue(i, j - 2) + arr[]"
   ]
  },
  {
   "cell_type": "code",
   "execution_count": 2,
   "metadata": {},
   "outputs": [
    {
     "name": "stdout",
     "output_type": "stream",
     "text": [
      "(0, 1)\n",
      "(0, 2)\n",
      "(1, 2)\n"
     ]
    }
   ],
   "source": [
    "#!/bin/python\n",
    "\n",
    "import math\n",
    "import os\n",
    "import random\n",
    "import re\n",
    "import sys\n",
    "\n",
    "# Complete the maxSubsetSum function below.\n",
    "\n",
    "class Lookup(object):\n",
    "    def __init__(self, n, arr):\n",
    "        self.n = n\n",
    "        self.store = [[0]*n]*n\n",
    "        for i in range(0, n):\n",
    "            self.store[i][i] = arr[i]\n",
    "    def setValue(self, value, x, y):\n",
    "        if(0 <= x < self.n and 0 <= y < self.n):\n",
    "            self.store[x][y] = value\n",
    "    def getValue(self, x , y):\n",
    "        if(0 <= x < self.n and 0<= y < self.n and x <= y):\n",
    "            return self.store[x][y]\n",
    "        return -1\n",
    "        \n",
    "\n",
    "\n",
    "def maxSubsetSum(arr):\n",
    "    n = len(arr)\n",
    "    lookup = Lookup([1,2,3,4])\n",
    "    for i in range(0, n):\n",
    "        for j in range(i+1, n):\n",
    "            if(j = i+1):\n",
    "                lookup.setValue(i, j, max(arr[i], arr[j]))\n",
    "                continue\n",
    "            prev = lookup.getValue(i+1, j-1)\n",
    "            \n",
    "            \n",
    "maxSubsetSum([1,2,3])\n"
   ]
  },
  {
   "cell_type": "code",
   "execution_count": 11,
   "metadata": {},
   "outputs": [
    {
     "name": "stdout",
     "output_type": "stream",
     "text": [
      "NO\n"
     ]
    }
   ],
   "source": [
    "#!/bin/python\n",
    "\n",
    "import math\n",
    "import os\n",
    "import random\n",
    "import re\n",
    "import sys\n",
    "\n",
    "# Complete the abbreviation function below.\n",
    "def abbreviation(a, b):\n",
    "    l1 = list(set(list(a.upper())))\n",
    "    l2 = list(set(list(b.upper())))\n",
    "    if(len(l1) != len(l2)):\n",
    "        print('NO')\n",
    "        return\n",
    "    for i in range(0, len(l1)):\n",
    "        if l1[i].upper() != l2[i].upper():\n",
    "            print('NO')\n",
    "            return\n",
    "    print('YES')\n",
    "                   \n",
    "abbreviation('daBcd', 'ABC')"
   ]
  },
  {
   "cell_type": "code",
   "execution_count": 12,
   "metadata": {},
   "outputs": [],
   "source": [
    "class Animal(object):\n",
    "    def __init__(self):\n",
    "        self.store = [0]*n\n",
    "\n",
    "    def show(self):\n",
    "        NotImplementedError(\"Abstract Class\")\n",
    "\n",
    "class Dog(Animal):\n",
    "    def __init__(self, n):\n",
    "        self.store = [[0]*n]*n\n",
    "    \n",
    "    def show(self):\n",
    "        for i in range(0, len(self.store)):\n",
    "            for j in range(0, len(self.store)):\n",
    "                print(self.store[i][j])\n",
    "        "
   ]
  },
  {
   "cell_type": "code",
   "execution_count": 14,
   "metadata": {},
   "outputs": [
    {
     "ename": "TypeError",
     "evalue": "__init__() takes exactly 1 argument (2 given)",
     "output_type": "error",
     "traceback": [
      "\u001b[0;31m---------------------------------------------------------------------------\u001b[0m",
      "\u001b[0;31mTypeError\u001b[0m                                 Traceback (most recent call last)",
      "\u001b[0;32m<ipython-input-14-7233ea11eff1>\u001b[0m in \u001b[0;36m<module>\u001b[0;34m()\u001b[0m\n\u001b[0;32m----> 1\u001b[0;31m \u001b[0mdog\u001b[0m \u001b[0;34m=\u001b[0m \u001b[0mDog\u001b[0m\u001b[0;34m(\u001b[0m\u001b[0;36m3\u001b[0m\u001b[0;34m)\u001b[0m\u001b[0;34m\u001b[0m\u001b[0m\n\u001b[0m",
      "\u001b[0;31mTypeError\u001b[0m: __init__() takes exactly 1 argument (2 given)"
     ]
    }
   ],
   "source": [
    "dog = Dog(3)"
   ]
  },
  {
   "cell_type": "code",
   "execution_count": 15,
   "metadata": {},
   "outputs": [
    {
     "name": "stdout",
     "output_type": "stream",
     "text": [
      "('First object', <__main__.Singleton object at 0x111174ad0>)\n",
      "('Second object', <__main__.Singleton object at 0x111174ad0>)\n"
     ]
    }
   ],
   "source": [
    "\n",
    "\n",
    "class Singleton(object):\n",
    "    def __new__(cls):\n",
    "        if not hasattr(cls, 'instance'):\n",
    "            cls.instance = super(Singleton, cls).__new__(cls)\n",
    "        return cls.instance\n",
    "\n",
    "\n",
    "\n",
    "# s1 and s2 will refer to same object.\n",
    "# ----------------------------------------\n",
    "s1 = Singleton()\n",
    "print(\"First object\",  s1)\n",
    "\n",
    "s2 = Singleton()\n",
    "print(\"Second object\",  s2)"
   ]
  },
  {
   "cell_type": "code",
   "execution_count": 23,
   "metadata": {},
   "outputs": [],
   "source": [
    "class TestSing:\n",
    "    __instance = None\n",
    "    def __init__(self):\n",
    "        if self.__instance:\n",
    "            self.getInstance()\n",
    "    def getInstance(cls):\n",
    "        if not cls.__instance:\n",
    "            cls.__instance = TestSing()\n",
    "        return cls.__instance"
   ]
  },
  {
   "cell_type": "code",
   "execution_count": 25,
   "metadata": {},
   "outputs": [
    {
     "data": {
      "text/plain": [
       "<__main__.TestSing instance at 0x1111fe050>"
      ]
     },
     "execution_count": 25,
     "metadata": {},
     "output_type": "execute_result"
    }
   ],
   "source": [
    "TestSing()"
   ]
  },
  {
   "cell_type": "code",
   "execution_count": 26,
   "metadata": {},
   "outputs": [
    {
     "ename": "ImportError",
     "evalue": "cannot import name ABC",
     "output_type": "error",
     "traceback": [
      "\u001b[0;31m---------------------------------------------------------------------------\u001b[0m",
      "\u001b[0;31mImportError\u001b[0m                               Traceback (most recent call last)",
      "\u001b[0;32m<ipython-input-26-ac2653636c9e>\u001b[0m in \u001b[0;36m<module>\u001b[0;34m()\u001b[0m\n\u001b[0;32m----> 1\u001b[0;31m \u001b[0;32mfrom\u001b[0m \u001b[0mabc\u001b[0m \u001b[0;32mimport\u001b[0m \u001b[0mABC\u001b[0m\u001b[0;34m,\u001b[0m \u001b[0mabstractmethod\u001b[0m\u001b[0;34m\u001b[0m\u001b[0m\n\u001b[0m\u001b[1;32m      2\u001b[0m \u001b[0;34m\u001b[0m\u001b[0m\n\u001b[1;32m      3\u001b[0m \u001b[0;32mclass\u001b[0m \u001b[0mDatabase\u001b[0m\u001b[0;34m(\u001b[0m\u001b[0mABC\u001b[0m\u001b[0;34m)\u001b[0m\u001b[0;34m:\u001b[0m\u001b[0;34m\u001b[0m\u001b[0m\n\u001b[1;32m      4\u001b[0m    \u001b[0;34m@\u001b[0m\u001b[0mabstractmethod\u001b[0m\u001b[0;34m\u001b[0m\u001b[0m\n\u001b[1;32m      5\u001b[0m    \u001b[0;32mdef\u001b[0m \u001b[0mconnection\u001b[0m\u001b[0;34m(\u001b[0m\u001b[0mself\u001b[0m\u001b[0;34m)\u001b[0m\u001b[0;34m:\u001b[0m\u001b[0;34m\u001b[0m\u001b[0m\n",
      "\u001b[0;31mImportError\u001b[0m: cannot import name ABC"
     ]
    }
   ],
   "source": [
    "from abc import ABC, abstractmethod\n",
    "\n",
    "class Database(ABC):\n",
    "   @abstractmethod\n",
    "   def connection(self):\n",
    "        pass\n",
    "\n",
    "class SqlServer:\n",
    "    def connection(self):\n",
    "        return('Sql database connection')\n",
    "\n",
    "\n",
    "class Oracle:\n",
    "    def connection(self):\n",
    "        return('Oracle database connecction.')\n",
    "\n",
    "\n",
    "class DbFactory:\n",
    "    def get_database_connection(self, database):\n",
    "        return database.connection()\n",
    "\n",
    "\n",
    "#  Client Code\n",
    "# -----------------------------\n",
    "factory = DbFactory()\n",
    "print(factory.get_database_connection(SqlServer()))\n",
    "print(factory.get_database_connection(Oracle()))"
   ]
  },
  {
   "cell_type": "code",
   "execution_count": 27,
   "metadata": {},
   "outputs": [
    {
     "name": "stdout",
     "output_type": "stream",
     "text": [
      "10\n",
      "9\n",
      "8\n",
      "7\n",
      "6\n",
      "5\n",
      "4\n",
      "3\n",
      "2\n"
     ]
    }
   ],
   "source": [
    "for i in range(10, 1, -1):\n",
    "    print(i)"
   ]
  },
  {
   "cell_type": "code",
   "execution_count": 50,
   "metadata": {},
   "outputs": [],
   "source": [
    "import math\n",
    "import os\n",
    "import random\n",
    "import re\n",
    "import sys\n",
    "\n",
    "# Complete the maxSubsetSum function below.\n",
    "\n",
    "class Lookup(object):\n",
    "    def __init__(self, n, arr):\n",
    "        self.n = n\n",
    "        self.store = [ [0]*n for i in range(0, n) ]\n",
    "        for i in range(0, n):\n",
    "            self.store[i][i] = arr[i]\n",
    "            print(\" \"+str(i) + str(arr[i]))\n",
    "    def setValue(self, value, i, j):\n",
    "        if(0<=i<self.n and 0<=j<self.n):\n",
    "            self.store[i][j]=value\n",
    "            print(\"set \" + str(i) + \" \" + str(j)+\" \"+str(value))\n",
    "    def getValue(self, i, j):\n",
    "        if(0<=i<self.n and 0<=j<self.n and i<=j):\n",
    "            return self.store[i][j]\n",
    "        return - float(\"inf\")\n",
    "    def printIt(self):\n",
    "        for i in range(0, self.n):\n",
    "            for j in range(0, self.n):\n",
    "                print(self.store[i][j])\n",
    "            print(\"\\n\")\n",
    "\n",
    "\n",
    "def maxSubsetSum(arr):\n",
    "    lookup = Lookup(len(arr), arr)\n",
    "    m = 0\n",
    "    n = len(arr)\n",
    "    lookup.printIt()\n",
    "    for k in range(2, n+1):\n",
    "        for i in range(0, n):\n",
    "            j = i + k - 1\n",
    "            leftsum = lookup.getValue(i, j-2)\n",
    "            rightsum = lookup.getValue(i+2, j)\n",
    "            leftsuminc = lookup.getValue(i, j-1)\n",
    "            rightsuminc = lookup.getValue(i+1, j)\n",
    "            pred = max(leftsum + arr[j], rightsum + arr[i], leftsuminc, rightsuminc) if (0<=i<n and 0<=j<n) else 0\n",
    "            lookup.setValue(pred, i, j)\n",
    "            print(\"max of \" + str(i) + \" \" + str(j) + \" = \" + str(pred) + \" -- \"+str(leftsum)+\" -- \"+str(rightsum)+\" -- \"+str(leftsuminc)+\" -- \"+str(rightsuminc))\n",
    "            \n",
    "        \n",
    "            \n",
    "            "
   ]
  },
  {
   "cell_type": "code",
   "execution_count": 51,
   "metadata": {},
   "outputs": [
    {
     "name": "stdout",
     "output_type": "stream",
     "text": [
      " 03\n",
      " 17\n",
      " 24\n",
      " 36\n",
      " 45\n",
      "3\n",
      "0\n",
      "0\n",
      "0\n",
      "0\n",
      "\n",
      "\n",
      "0\n",
      "7\n",
      "0\n",
      "0\n",
      "0\n",
      "\n",
      "\n",
      "0\n",
      "0\n",
      "4\n",
      "0\n",
      "0\n",
      "\n",
      "\n",
      "0\n",
      "0\n",
      "0\n",
      "6\n",
      "0\n",
      "\n",
      "\n",
      "0\n",
      "0\n",
      "0\n",
      "0\n",
      "5\n",
      "\n",
      "\n",
      "set 0 1 7\n",
      "max of 0 1 = 7 -- -inf -- -inf -- 3 -- 7\n",
      "set 1 2 7\n",
      "max of 1 2 = 7 -- -inf -- -inf -- 7 -- 4\n",
      "set 2 3 6\n",
      "max of 2 3 = 6 -- -inf -- -inf -- 4 -- 6\n",
      "set 3 4 6\n",
      "max of 3 4 = 6 -- -inf -- -inf -- 6 -- 5\n",
      "max of 4 5 = 0 -- -inf -- -inf -- 5 -- -inf\n",
      "set 0 2 7\n",
      "max of 0 2 = 7 -- 3 -- 4 -- 7 -- 7\n",
      "set 1 3 13\n",
      "max of 1 3 = 13 -- 7 -- 6 -- 7 -- 6\n",
      "set 2 4 9\n",
      "max of 2 4 = 9 -- 4 -- 5 -- 6 -- 6\n",
      "max of 3 5 = 0 -- 6 -- -inf -- 6 -- -inf\n",
      "max of 4 6 = 0 -- 5 -- -inf -- -inf -- -inf\n",
      "set 0 3 13\n",
      "max of 0 3 = 13 -- 7 -- 6 -- 7 -- 13\n",
      "set 1 4 13\n",
      "max of 1 4 = 13 -- 7 -- 6 -- 13 -- 9\n",
      "max of 2 5 = 0 -- 6 -- -inf -- 9 -- -inf\n",
      "max of 3 6 = 0 -- 6 -- -inf -- -inf -- -inf\n",
      "max of 4 7 = 0 -- -inf -- -inf -- -inf -- -inf\n",
      "set 0 4 13\n",
      "max of 0 4 = 13 -- 7 -- 9 -- 13 -- 13\n",
      "max of 1 5 = 0 -- 13 -- -inf -- 13 -- -inf\n",
      "max of 2 6 = 0 -- 9 -- -inf -- -inf -- -inf\n",
      "max of 3 7 = 0 -- -inf -- -inf -- -inf -- -inf\n",
      "max of 4 8 = 0 -- -inf -- -inf -- -inf -- -inf\n"
     ]
    }
   ],
   "source": [
    "maxSubsetSum([3, 7, 4, 6, 5])"
   ]
  },
  {
   "cell_type": "code",
   "execution_count": 64,
   "metadata": {},
   "outputs": [],
   "source": [
    "import math\n",
    "import os\n",
    "import random\n",
    "import re\n",
    "import sys\n",
    "import numpy\n",
    "# Complete the maxSubsetSum function below.\n",
    "\n",
    "class Lookup(object):\n",
    "    def __init__(self, n, arr):\n",
    "        self.n = n\n",
    "        self.store = [ [0]*n for i in range(0, n) ]\n",
    "        for i in range(0, n):\n",
    "            self.store[i][i] = arr[i]\n",
    "    def setValue(self, value, i, j):\n",
    "        if(0<=i<self.n and 0<=j<self.n):\n",
    "            self.store[i][j]=value\n",
    "    def getValue(self, i, j):\n",
    "        if(0<=i<self.n and 0<=j<self.n and i<=j):\n",
    "            return self.store[i][j]\n",
    "        return - float(\"inf\")\n",
    "    def printIt(self):\n",
    "        for i in range(0, self.n):\n",
    "            for j in range(0, self.n):\n",
    "                print(self.store[i][j])\n",
    "            print(\"\\n\")\n",
    "\n",
    "\n",
    "def maxSubsetSum(arr):\n",
    "    lookup = Lookup(len(arr), arr)\n",
    "    m = 0\n",
    "    n = len(arr)\n",
    "    for k in range(2, n+1):\n",
    "        for i in range(0, n):\n",
    "            j = i + k - 1\n",
    "            leftsum = lookup.getValue(i, j-2)\n",
    "            rightsum = lookup.getValue(i+2, j)\n",
    "            leftsuminc = lookup.getValue(i, j-1)\n",
    "            rightsuminc = lookup.getValue(i+1, j)\n",
    "            pred = max(leftsum + arr[j], rightsum + arr[i], leftsuminc, rightsuminc) if (0<=i<n and 0<=j<n) else 0\n",
    "            lookup.setValue(pred, i, j)\n",
    "            m = m if m > pred else pred\n",
    "    return numpy.array(lookup).max()\n",
    "        \n",
    "            \n",
    "            "
   ]
  },
  {
   "cell_type": "code",
   "execution_count": 68,
   "metadata": {},
   "outputs": [
    {
     "data": {
      "text/plain": [
       "array(<__main__.Lookup object at 0x10ee658d0>, dtype=object)"
      ]
     },
     "execution_count": 68,
     "metadata": {},
     "output_type": "execute_result"
    }
   ],
   "source": [
    "arr = [1]\n",
    "lookup = Lookup(len(arr), arr)\n",
    "m = 0\n",
    "n = len(arr)\n",
    "for k in range(2, n+1):\n",
    "    for i in range(0, n):\n",
    "        j = i + k - 1\n",
    "        leftsum = lookup.getValue(i, j-2)\n",
    "        rightsum = lookup.getValue(i+2, j)\n",
    "        leftsuminc = lookup.getValue(i, j-1)\n",
    "        rightsuminc = lookup.getValue(i+1, j)\n",
    "        pred = max(leftsum + arr[j], rightsum + arr[i], leftsuminc, rightsuminc) if (0<=i<n and 0<=j<n) else 0\n",
    "        lookup.setValue(pred, i, j)\n",
    "        m = m if m > pred else pred\n",
    "numpy.array(lookup)"
   ]
  },
  {
   "cell_type": "code",
   "execution_count": 81,
   "metadata": {},
   "outputs": [],
   "source": [
    "import math\n",
    "import os\n",
    "import random\n",
    "import re\n",
    "import sys\n",
    "import numpy\n",
    "\n",
    "# Complete the candies function below.\n",
    "\n",
    "class Lookup:\n",
    "    def __init__(self, n):\n",
    "        self.n = n\n",
    "        self.store = [0] * n;\n",
    "        self.store[0] = 1\n",
    "    def getValue(self, i):\n",
    "        return self.store[i]\n",
    "    def setValue(self, i, value):\n",
    "        self.store[i] = value\n",
    "    def increment(self, i):\n",
    "        self.store[i] = self.store[i-1] + 1\n",
    "    def decrement(self, i):\n",
    "        if(not(0<=i<n)):\n",
    "            return\n",
    "        self.store[i] = 1\n",
    "        for j in range(i, 0, -1):\n",
    "            if(self.store[j] == self.store[j-1]):\n",
    "                self.store[j-1] = self.store[j]+1\n",
    "            else:\n",
    "                return"
   ]
  },
  {
   "cell_type": "code",
   "execution_count": 82,
   "metadata": {},
   "outputs": [
    {
     "name": "stdout",
     "output_type": "stream",
     "text": [
      "1\n",
      "2\n",
      "0\n"
     ]
    }
   ],
   "source": [
    "arr = [1,4,3]\n",
    "\n",
    "lookup = Lookup(len(arr))\n",
    "\n",
    "for i in range(1, len(arr)):\n",
    "    if(arr[i] > arr[i-1]):\n",
    "        lookup.increment(i)\n",
    "    else:\n",
    "        lookup.decrement(i)\n",
    "\n",
    "for i in lookup.store:\n",
    "    print(i)\n",
    "    \n"
   ]
  },
  {
   "cell_type": "code",
   "execution_count": 78,
   "metadata": {},
   "outputs": [
    {
     "name": "stdout",
     "output_type": "stream",
     "text": [
      "1\n",
      "0\n",
      "0\n"
     ]
    }
   ],
   "source": [
    "\n",
    "arr = [1,2,3]\n",
    "\n",
    "lookup = Lookup(len(arr))\n",
    "for i in lookup.store:\n",
    "    print(i)"
   ]
  },
  {
   "cell_type": "code",
   "execution_count": 75,
   "metadata": {},
   "outputs": [
    {
     "name": "stdout",
     "output_type": "stream",
     "text": [
      "1\n",
      "0\n",
      "0\n"
     ]
    }
   ],
   "source": [
    "lookup.store[0] = 1\n",
    "for i in lookup.store:\n",
    "    print(i)"
   ]
  },
  {
   "cell_type": "code",
   "execution_count": null,
   "metadata": {},
   "outputs": [],
   "source": []
  }
 ],
 "metadata": {
  "kernelspec": {
   "display_name": "Python 2",
   "language": "python",
   "name": "python2"
  },
  "language_info": {
   "codemirror_mode": {
    "name": "ipython",
    "version": 2
   },
   "file_extension": ".py",
   "mimetype": "text/x-python",
   "name": "python",
   "nbconvert_exporter": "python",
   "pygments_lexer": "ipython2",
   "version": "2.7.16"
  }
 },
 "nbformat": 4,
 "nbformat_minor": 2
}
