{
 "cells": [
  {
   "cell_type": "code",
   "execution_count": 202,
   "metadata": {},
   "outputs": [],
   "source": [
    "import math\n",
    "import os\n",
    "import random\n",
    "import re\n",
    "import sys\n",
    "import numpy\n",
    "import datetime\n",
    "\n",
    "class Vehicle:\n",
    "    def __init__(self, name):\n",
    "        self.name = name\n",
    "\n",
    "        \n",
    "class Rental:\n",
    "    def __init__(self, rent, vehicle):\n",
    "        self.rent = rent\n",
    "        self.vehicle = vehicle\n",
    "\n",
    "        \n",
    "class Booking:\n",
    "    def __init__(self, branch, rental, start_time, end_time):\n",
    "        self.branch = branch\n",
    "        self.rental = rental\n",
    "        self.start_time = start_time\n",
    "        self.end_time = end_time\n",
    "\n",
    "\n",
    "class Branch:\n",
    "    def __init__(self, name):\n",
    "        self.name = name\n",
    "        self.rentals = {}\n",
    "    \n",
    "    def addRental(self, rental, no_of_vehicles):\n",
    "        if(not self.isRentalAvailable(rental)):\n",
    "            self.rentals[rental] = (no_of_vehicles, no_of_vehicles)\n",
    "        else:\n",
    "            existing_rental = self.getRental(rental)\n",
    "            self.rentals[existing_rental] = (self.rentals[existing_rental][0] + no_of_vehicles, self.rentals[existing_rental][1] + no_of_vehicles)\n",
    "    \n",
    "    def getRental(self, input_rental):\n",
    "        for key in self.rentals.keys():\n",
    "            rental = self.rentals[key]\n",
    "            if(input_rental.rent == key.rent and input_rental.vehicle.name == key.vehicle.name):\n",
    "                return key\n",
    "        return None\n",
    "    def isRentalAvailable(self, input_rental):\n",
    "        for key in self.rentals.keys():\n",
    "            rental = self.rentals[key]\n",
    "            if(input_rental.rent == key.rent and input_rental.vehicle.name == key.vehicle.name):\n",
    "                return True\n",
    "        return False\n",
    "    \n",
    "    def getAvailable(self, input_rental):\n",
    "        for key in self.rentals.keys():\n",
    "            rental = self.rentals[key]\n",
    "            if(input_rental.rent == key.rent and input_rental.vehicle.name == key.vehicle.name):\n",
    "                return rental[0]\n",
    "        return -1\n",
    "    \n",
    "    def printStatement(self):\n",
    "        print(\"Branch Name : {}\".format(self.name))\n",
    "        for key in self.rentals.keys():\n",
    "            rental = self.rentals[key]\n",
    "            if(rental[1] > 0):\n",
    "                print(\"CarType - {} is available for rent - {}\".format( key.vehicle.name, key.rent))\n",
    "            else:\n",
    "                print(\"CarType - {} for rent {} - All Booked\".format(key.vehicle.name, key.rent))\n",
    "\n",
    "class GoogleMapRoaster:\n",
    "    def __init__(self):\n",
    "        self.distances = [[3, 5, 7], [1, 4, 3], [2, 5, 7]]\n",
    "        self.locationindex = {\"kor\": 1, \"mad\": 2, \"bel\": 3}\n",
    "    def getNearest(self, branch_name):\n",
    "        return 'mad'\n",
    "\n",
    "\n",
    "class ScheduledBookings:\n",
    "    def __init__(self):\n",
    "        self.bookings = []\n",
    "    \n",
    "    def addBooking(self, branch, rental, start_time, end_time):\n",
    "        print(\"Add Booking\")\n",
    "        if( self.isAllBooked(branch, rental, start_time, end_time) == False):\n",
    "            self.bookings.append(Booking(branch, rental, start_time, end_time))\n",
    "            print(\"Booked - Branch - {} - Car - {}\".format(branch.name, rental.vehicle.name))\n",
    "            return True\n",
    "        else:\n",
    "            print(\"Cant Book - No vacancy\")\n",
    "            return False\n",
    "        \n",
    "    def isAllBooked(self, branch, rental, start_time, end_time):\n",
    "        rental = branch.getRental(rental)\n",
    "        occupied = 0\n",
    "        for b in self.bookings:\n",
    "            if(b.branch.name == branch.name and\n",
    "              b.rental.rent == rental.rent and\n",
    "              b.rental.vehicle.name == rental.vehicle.name):\n",
    "                if(b.start_time.time() <= start_time.time() < b.end_time.time() or\n",
    "                  b.start_time.time() <= end_time.time() < b.end_time.time()):\n",
    "                    occupied = occupied + 1\n",
    "        print(\"Occupied {} - {}\".format(occupied, branch.getAvailable(rental)))\n",
    "        if branch.getAvailable(rental) > occupied:\n",
    "            return False\n",
    "        else:\n",
    "            return True\n",
    "class Roaster:\n",
    "    def __init__(self):\n",
    "        self.branches = []\n",
    "        self.maps = GoogleMapRoaster()\n",
    "        self.schedule = ScheduledBookings()\n",
    "    \n",
    "    def addBranch(self, name):\n",
    "        if(not self.isBranchRegistered(name)):\n",
    "            self.branches.append(Branch(name))\n",
    "    \n",
    "    def addVehicle(self, name, rent, branch_name, no_of_vehicles):\n",
    "        self.addBranch(branch_name)\n",
    "        branch = self.getBranch(branch_name)\n",
    "        if branch is not None:\n",
    "            rental = Rental(rent, Vehicle(name))\n",
    "            branch.addRental(rental, no_of_vehicles)\n",
    "            \n",
    "    def scheduleBooking(self, user_location, rent=None, vehicle_name, start_time, end_time):\n",
    "        user_branch = Branch(user_location)\n",
    "        rental = Rental(rent, Vehicle(vehicle_name))\n",
    "        print(\"Trying source\")\n",
    "        isBooked = self.schedule.addBooking(self.getBranch(user_location), rental, start_time, end_time)\n",
    "        if(isBooked == False):\n",
    "            print(\"Unable to book at user location\")\n",
    "            nearestBranch = self.maps.getNearest(user_location)\n",
    "            isBooked = self.schedule.addBooking(self.getBranch(nearestBranch), rental, start_time, end_time)\n",
    "    \n",
    "    def isBranchRegistered(self, name):\n",
    "        for b in self.branches:\n",
    "            if(b.name == name):\n",
    "                return True\n",
    "        return False\n",
    "    \n",
    "    def getBranch(self, name):\n",
    "        for b in self.branches:\n",
    "            if(b.name == name):\n",
    "                return b\n",
    "        return None\n",
    "    \n",
    "    def printStatement(self):\n",
    "        for b in self.branches:\n",
    "            b.printStatement()\n"
   ]
  },
  {
   "cell_type": "code",
   "execution_count": 203,
   "metadata": {},
   "outputs": [
    {
     "name": "stdout",
     "output_type": "stream",
     "text": [
      "Branch Name : kor\n",
      "CarType - sedan is available for rent - 10\n",
      "Branch Name : mad\n",
      "CarType - sedan is available for rent - 10\n",
      "Trying source\n",
      "Add Booking\n",
      "Occupied 0 - 1\n",
      "Booked - Branch - kor - Car - sedan\n"
     ]
    }
   ],
   "source": [
    "roaster = Roaster()\n",
    "roaster.addVehicle('sedan', 10, 'kor', 1)\n",
    "roaster.addVehicle('sedan', 10, 'mad', 4)\n",
    "roaster.printStatement()\n",
    "\n",
    "\n",
    "start_time = datetime.datetime(2019, 12, 2, 9, 30)\n",
    "end_time = datetime.datetime(2019, 12, 1, 20, 0)\n",
    "\n",
    "roaster.scheduleBooking('kor', 10, 'sedan', start_time, end_time)\n"
   ]
  },
  {
   "cell_type": "code",
   "execution_count": 204,
   "metadata": {},
   "outputs": [
    {
     "name": "stdout",
     "output_type": "stream",
     "text": [
      "Trying source\n",
      "Add Booking\n",
      "Occupied 1 - 1\n",
      "Cant Book - No vacancy\n",
      "Unable to book at user location\n",
      "Add Booking\n",
      "Occupied 0 - 4\n",
      "Booked - Branch - mad - Car - sedan\n"
     ]
    }
   ],
   "source": [
    "roaster.scheduleBooking('kor', 10, 'sedan', start_time, end_time)"
   ]
  },
  {
   "cell_type": "code",
   "execution_count": 162,
   "metadata": {},
   "outputs": [],
   "source": [
    "roaster = Roaster()\n",
    "roaster.addBranch('kor')\n",
    "roaster.addVehicle('sedan', 10, 'kor', 5)\n",
    "\n",
    "branch = Branch('kor')\n",
    "rental = Rental(10, Vehicle('sedan'))\n",
    "bookings = ScheduledBookings()\n",
    "start_time = datetime.datetime(2019, 12, 2, 9, 30)\n",
    "end_time = datetime.datetime(2019, 12, 1, 20, 0)\n",
    "bookings.addBooking(roaster.getBranch('kor'), rental, start_time, end_time)"
   ]
  },
  {
   "cell_type": "code",
   "execution_count": 168,
   "metadata": {},
   "outputs": [],
   "source": [
    "bookings.addBooking(roaster.getBranch('kor'), rental, start_time, end_time)\n",
    "\n"
   ]
  },
  {
   "cell_type": "code",
   "execution_count": 164,
   "metadata": {},
   "outputs": [],
   "source": [
    "branch = Branch('kor')"
   ]
  },
  {
   "cell_type": "code",
   "execution_count": 123,
   "metadata": {},
   "outputs": [],
   "source": [
    "branch.addRental(rental, 5)"
   ]
  },
  {
   "cell_type": "code",
   "execution_count": 124,
   "metadata": {},
   "outputs": [
    {
     "name": "stdout",
     "output_type": "stream",
     "text": [
      "Branch Name : kor\n",
      "CarType - sedan is available for rent - 10\n"
     ]
    }
   ],
   "source": [
    "branch.printStatement()"
   ]
  },
  {
   "cell_type": "code",
   "execution_count": 125,
   "metadata": {},
   "outputs": [],
   "source": []
  },
  {
   "cell_type": "code",
   "execution_count": 126,
   "metadata": {},
   "outputs": [],
   "source": []
  },
  {
   "cell_type": "code",
   "execution_count": 131,
   "metadata": {},
   "outputs": [
    {
     "name": "stdout",
     "output_type": "stream",
     "text": [
      "Branch Name : kor\n",
      "CarType - sedan is available for rent - 10\n"
     ]
    }
   ],
   "source": [
    "roaster.printStatement()"
   ]
  },
  {
   "cell_type": "code",
   "execution_count": 130,
   "metadata": {},
   "outputs": [],
   "source": [
    "roaster.addVehicle('sedan', 10, 'kor', 5)"
   ]
  },
  {
   "cell_type": "code",
   "execution_count": 137,
   "metadata": {},
   "outputs": [
    {
     "ename": "TypeError",
     "evalue": "__init__() takes exactly 4 arguments (1 given)",
     "output_type": "error",
     "traceback": [
      "\u001b[0;31m---------------------------------------------------------------------------\u001b[0m",
      "\u001b[0;31mTypeError\u001b[0m                                 Traceback (most recent call last)",
      "\u001b[0;32m<ipython-input-137-d18e06d4ac69>\u001b[0m in \u001b[0;36m<module>\u001b[0;34m()\u001b[0m\n\u001b[0;32m----> 1\u001b[0;31m \u001b[0mBooking\u001b[0m\u001b[0;34m(\u001b[0m\u001b[0;34m)\u001b[0m\u001b[0;34m\u001b[0m\u001b[0m\n\u001b[0m",
      "\u001b[0;31mTypeError\u001b[0m: __init__() takes exactly 4 arguments (1 given)"
     ]
    }
   ],
   "source": []
  },
  {
   "cell_type": "code",
   "execution_count": 136,
   "metadata": {},
   "outputs": [
    {
     "data": {
      "text/plain": [
       "<__main__.GoogleMapRoaster instance at 0x1096d7f38>"
      ]
     },
     "execution_count": 136,
     "metadata": {},
     "output_type": "execute_result"
    }
   ],
   "source": [
    "branch.getAvailable()"
   ]
  },
  {
   "cell_type": "code",
   "execution_count": null,
   "metadata": {},
   "outputs": [],
   "source": []
  }
 ],
 "metadata": {
  "kernelspec": {
   "display_name": "Python 2",
   "language": "python",
   "name": "python2"
  },
  "language_info": {
   "codemirror_mode": {
    "name": "ipython",
    "version": 2
   },
   "file_extension": ".py",
   "mimetype": "text/x-python",
   "name": "python",
   "nbconvert_exporter": "python",
   "pygments_lexer": "ipython2",
   "version": "2.7.16"
  }
 },
 "nbformat": 4,
 "nbformat_minor": 2
}
