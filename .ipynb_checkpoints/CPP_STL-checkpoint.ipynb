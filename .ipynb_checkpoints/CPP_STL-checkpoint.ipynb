{
 "cells": [
  {
   "cell_type": "code",
   "execution_count": 1,
   "metadata": {},
   "outputs": [
    {
     "name": "stdout",
     "output_type": "stream",
     "text": [
      "2"
     ]
    }
   ],
   "source": [
    "using namespace std;\n",
    "\n",
    "vector<int> vec;\n",
    "vec.push_back(4);\n",
    "vec.push_back(3);\n",
    "vec.push_back(2);\n",
    "\n",
    "sort(vec.begin(), vec.end());\n",
    "\n",
    "#include<iostream>\n",
    "cout<<vec.at(0);"
   ]
  },
  {
   "cell_type": "code",
   "execution_count": 3,
   "metadata": {},
   "outputs": [
    {
     "name": "stdout",
     "output_type": "stream",
     "text": [
      "234"
     ]
    }
   ],
   "source": [
    "for (vector<int>::iterator iter = vec.begin(); iter != vec.end(); iter ++)\n",
    "    cout << *iter;\n",
    "vec.empty();\n",
    "vec.size();\n",
    "vector<int> vec2(vec);\n",
    "vec.clear();\n",
    "vec2.swap(vec);\n"
   ]
  },
  {
   "cell_type": "code",
   "execution_count": 2,
   "metadata": {},
   "outputs": [
    {
     "name": "stdout",
     "output_type": "stream",
     "text": [
      "2"
     ]
    }
   ],
   "source": []
  },
  {
   "cell_type": "code",
   "execution_count": null,
   "metadata": {},
   "outputs": [],
   "source": []
  }
 ],
 "metadata": {
  "kernelspec": {
   "display_name": "C++11",
   "language": "C++11",
   "name": "xcpp11"
  },
  "language_info": {
   "codemirror_mode": "text/x-c++src",
   "file_extension": ".cpp",
   "mimetype": "text/x-c++src",
   "name": "c++",
   "version": "-std=c++11"
  }
 },
 "nbformat": 4,
 "nbformat_minor": 2
}
