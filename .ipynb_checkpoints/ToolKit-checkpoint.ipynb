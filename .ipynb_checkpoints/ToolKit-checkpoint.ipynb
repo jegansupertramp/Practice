{
 "cells": [
  {
   "cell_type": "code",
   "execution_count": null,
   "metadata": {
    "scrolled": true
   },
   "outputs": [],
   "source": [
    "! pip install ffmpy\n",
    "! chmod +x /Users/sjegan/anaconda3/bin/ffmpeg\n",
    "! pip install unrar\n",
    "! pip install beautifulsoup4\n",
    "! pip install urllib3\n",
    "! pip install pyunpack\n",
    "! pip install patool\n",
    "! pip install webptools\n",
    "! pip install opencv-python\n",
    "! pip install setuptools moviepy\n",
    "! pip install google-api-python-client google-auth-httplib2 google-auth-oauthlib\n",
    "! pip install pymediainfo\n",
    "! pip install pydub"
   ]
  },
  {
   "cell_type": "code",
   "execution_count": 1,
   "metadata": {
    "scrolled": true
   },
   "outputs": [],
   "source": [
    "import pyunpack\n",
    "from os import listdir\n",
    "import os\n",
    "from os.path import isfile, join\n",
    "import shutil\n",
    "\n",
    "from unrar import rarfile\n",
    "import os\n",
    "import subprocess\n",
    "import time\n",
    "from os import listdir\n",
    "import os\n",
    "from os.path import isfile, join\n",
    "import shutil\n",
    "import glob, os\n",
    "\n",
    "def getDuration(filename, ppp=False):\n",
    "    from pymediainfo import MediaInfo\n",
    "    media_info = MediaInfo.parse(filename)\n",
    "    #duration in milliseconds\n",
    "    duration_in_ms = media_info.tracks[0].duration\n",
    "    if ppp is True:\n",
    "        print(f'FileDuration --- {filename} = {(round(duration_in_ms/(1000*60)))}')\n",
    "    return (round(duration_in_ms/(1000*60)))\n",
    "\n",
    "def getDurationDir(dir_name):\n",
    "    onlyfiles = [(join(dir_name, f), f) for f in listdir(dir_name) if isfile(join(dir_name, f))]\n",
    "    totalfiles = len(onlyfiles)\n",
    "    onlyfiles.sort()\n",
    "    i=1\n",
    "    onlyfiles.sort\n",
    "    dur = 0\n",
    "    for loc, filename in onlyfiles:\n",
    "        if loc.endswith(\".avi\") or loc.endswith(\".mp4\") or loc.endswith(\".MP4\") or loc.endswith(\".mkv\") or loc.endswith(\".mpg\") or loc.endswith(\".flv\"):\n",
    "            dur += getDuration(loc)\n",
    "    print(f\"Directory in Minutes = {dur}\")\n",
    "    return dur\n",
    "\n",
    "def convertByPIL(source, destination, small=False):\n",
    "    from PIL import Image\n",
    "    image = Image.open(source)\n",
    "    w1 = image.width\n",
    "    h1 = image.height\n",
    "    h2 = 1024\n",
    "    if(small == True):\n",
    "        h2 = 512\n",
    "    w2 = int((w1*h2)/h1)\n",
    "    newImage = image.resize((w2, h2), Image.NEAREST)\n",
    "    os.remove(source)\n",
    "    newImage.save(destination)\n",
    "\n",
    "def convertByScipy(source, destination, small=False):\n",
    "    import scipy.misc\n",
    "    import numpy as np\n",
    "    img = scipy.misc.imread(imgpath)\n",
    "    assert len(img.shape) == 3\n",
    "    w1 = img.shape[0]\n",
    "    h1 = img.shape[1]\n",
    "    h2 = 1024\n",
    "    w2 = int((w1*h2)/h1)\n",
    "\n",
    "    if small == True:\n",
    "        if w2 > h2:\n",
    "            h2 = 512\n",
    "            w2 = int((w1*h2)/h1)\n",
    "    img_resized = scipy.misc.imresize(img, (w2, h2))\n",
    "    img_answer = (img_resized/255.0).astype('float32')\n",
    "\n",
    "    import matplotlib.pyplot as plt\n",
    "#     plt.imshow(np.uint8(img))\n",
    "#     plt.show()\n",
    "#     plt.imshow(np.uint8(img_resized))\n",
    "#     plt.show()\n",
    "    os.remove(source)\n",
    "    scipy.misc.imsave(destination, img_resized)\n",
    "\n",
    "def convertImage(source, destination, small=False, delfol = \"/Users/sjegan/Downloads/del/\"):\n",
    "    import scipy\n",
    "    imgpath = source\n",
    "    try:\n",
    "        convertByScipy(source, destination, small)\n",
    "    except:\n",
    "        try:\n",
    "            convertByPIL(source, destination, small)\n",
    "        except:\n",
    "            print(f'Error in Conversion - {source}')\n",
    "            shutil.move(src=source, dst=delfol)\n",
    "\n",
    "def convertAllImages(files, small=False):\n",
    "    for f in files:\n",
    "        convertImage(f, f'{f[0:-4]}.jpg', small)\n",
    "\n",
    "def getListOfFiles(dirName, filterlist):\n",
    "    listOfFile = os.listdir(dirName)\n",
    "    allFiles = list()\n",
    "    for entry in listOfFile:\n",
    "        fullPath = os.path.join(dirName, entry)\n",
    "        if os.path.isdir(fullPath):\n",
    "            allFiles = allFiles + getListOfFiles(fullPath, filterlist)\n",
    "        else:\n",
    "            canadd = False\n",
    "            for f in filterlist:\n",
    "                if fullPath.endswith(f):\n",
    "                    allFiles.append(fullPath)\n",
    "                    break\n",
    "    allFiles.sort()\n",
    "                \n",
    "    return allFiles\n",
    "def shrinkImages(dir_name):\n",
    "    from webptools import webplib as webp\n",
    "    webpFiles = getListOfFiles(dir_name, ['webp'])\n",
    "    for (w) in webpFiles:\n",
    "#         webp.dwebp(w,f'{w}.jpg',\"-o\")\n",
    "        os.system(f'dwebp \"{w}\" -o \"{w}.jpg\"')\n",
    "        os.remove(w)\n",
    "    files = getListOfFiles(dir_name, ['jpg', 'jpeg', 'JPEG', 'JPG', 'png', 'PNG'])\n",
    "    convertAllImages(files, False)\n",
    "\n",
    "def tomp4(input_file, output_file):\n",
    "    import time\n",
    "    getDuration(input_file, True)\n",
    "    start_time = time.time()\n",
    "    import ffmpy\n",
    "    crf = 18\n",
    "    input_name = input_file\n",
    "    output_name = output_file\n",
    "    inp={input_name:None}\n",
    "    outp = {output_name:'-vcodec libx264 -crf 28 -preset faster -tune film -strict -2 -filter:v scale=\"640:trunc(ow/a/2)*2\" -b:v 128k -b:a 100k -r 20 '}\n",
    "    outp = {output_name:'-af apad -shortest -avoid_negative_ts make_zero -fflags +genpts -vcodec libx264 -acodec aac -preset faster -tune film -strict -2 -filter:v scale=\"640:trunc(ow/a/2)*2\" -b:v 128k -b:a 100k -r 20 -map 0:v:0 -map 0:a:0 '}\n",
    "    ff=ffmpy.FFmpeg(inputs=inp,outputs=outp)\n",
    "    print(ff.cmd) # just to verify that it produces the correct ffmpeg command\n",
    "    ff.run()\n",
    "    print(f\"---- {output_file} --- {(time.time() - start_time)} seconds ---\")\n",
    "    return (time.time() - start_time)\n",
    "\n",
    "def tomp4audiovideo(input_file, output_file, audio=0, video=0):\n",
    "    import time\n",
    "    getDuration(input_file, True)\n",
    "    start_time = time.time()\n",
    "    import ffmpy\n",
    "    crf = 18\n",
    "    input_name = input_file\n",
    "    output_name = output_file\n",
    "    inp={input_name:None}\n",
    "    outp = {output_name:'-vcodec libx264 -crf 28 -preset faster -tune film -strict -2 -filter:v scale=\"640:trunc(ow/a/2)*2\" -b:v 128k -b:a 100k -r 20 '}\n",
    "    outp = {output_name:'-af apad -shortest -avoid_negative_ts make_zero -fflags +genpts -vcodec libx264 -acodec aac -preset faster -tune film -strict -2 -filter:v scale=\"640:trunc(ow/a/2)*2\" -b:v 128k -b:a 100k -r 20 -map 0:a:1 '}\n",
    "    outp = {output_name:' -map 0:v:0 -map 0:a:1 '}\n",
    "    ff=ffmpy.FFmpeg(inputs=inp,outputs=outp)\n",
    "    print(ff.cmd) # just to verify that it produces the correct ffmpeg command\n",
    "    ff.run()\n",
    "    print(f\"---- {output_file} --- {(time.time() - start_time)} seconds ---\")\n",
    "\n",
    "def chooseAudioVideo(dir_name, dest_dir_name, bin_dir_name, audio=0, video=0):\n",
    "    onlyfiles = [(join(dir_name, f), f) for f in listdir(dir_name) if isfile(join(dir_name, f))]\n",
    "    totalfiles = len(onlyfiles)\n",
    "    onlyfiles.sort()\n",
    "    i=1\n",
    "    onlyfiles.sort\n",
    "    totalminutes = getDurationDir(dir_name)\n",
    "    for loc, filename in onlyfiles:\n",
    "        if loc.endswith(\".avi\") or loc.endswith(\".mp4\") or loc.endswith(\".MP4\") or loc.endswith(\".mkv\") or loc.endswith(\".mpg\") or loc.endswith(\".flv\"):\n",
    "#             print(loc)\n",
    "            import datetime\n",
    "            print(f'-------------------{i} / {totalfiles}----------------------')\n",
    "#             2 minutes for 23 minutes\n",
    "#             1 minute for 12 minutes\n",
    "            import time\n",
    "            \n",
    "            print(f'--- Estimate {time.ctime(time.time() + round(totalminutes * 15))}')\n",
    "            cmd_filelist = \"C:\\\\Users\\\\Jegan\\\\Downloads\\\\ffmpeg\\\\bin\\\\ffmpeg.exe -i \\\"\" + loc + \"\\\" -filter:v scale=\\\"640:trunc(ow/a/2)*2\\\" -b:v 128k -b:a -bsf:v h264_mp4toannexb 100k -r 20 \\\"\" + dest_dir_name + filename + \".mp4\\\"\"\n",
    "            try:\n",
    "                dur = getDuration(loc)\n",
    "                tomp4audiovideo(loc, dest_dir_name + \"/\" + os.path.splitext(os.path.basename(filename))[0] + \".mp4\", audio, video)\n",
    "                shutil.move(src=loc, dst=bin_dir_name)\n",
    "                totalminutes -= dur\n",
    "            except:\n",
    "                print(\"*****************FAILED***************\" + loc)\n",
    "            i = i + 1\n",
    "\n",
    "def tosmmp4(input_file, output_file):\n",
    "    import ffmpy\n",
    "    crf = 18\n",
    "    input_name = input_file\n",
    "    output_name = output_file\n",
    "    inp={input_name:None}\n",
    "    outp = {output_name:'-vcodec libx264 -crf 28 -preset faster -tune film -strict -2 -filter:v scale=\"640:trunc(ow/a/2)*2\" -b:v 128k -b:a 100k -r 20 '}\n",
    "    outp = {output_name:'-af apad -shortest -avoid_negative_ts make_zero -fflags +genpts -vcodec libx264 -acodec aac -preset faster -tune film -strict -2 -filter:v scale=\"360:trunc(ow/a/2)*2\" -b:v 50k -b:a 30k -r 20 '}\n",
    "    ff=ffmpy.FFmpeg(inputs=inp,outputs=outp)\n",
    "#     print(ff.cmd) # just to verify that it produces the correct ffmpeg command\n",
    "    ff.run()\n",
    "def shrinkTinyVideos(dir_name, dest_dir_name, bin_dir_name):\n",
    "    onlyfiles = [(join(dir_name, f), f) for f in listdir(dir_name) if isfile(join(dir_name, f))]\n",
    "    totalfiles = len(onlyfiles)\n",
    "    onlyfiles.sort()\n",
    "    i=1\n",
    "    onlyfiles.sort\n",
    "    for loc, filename in onlyfiles:\n",
    "        if loc.endswith(\".avi\") or loc.endswith(\".mp4\") or loc.endswith(\".MP4\") or loc.endswith(\".mkv\") or loc.endswith(\".mpg\") or loc.endswith(\".flv\"):\n",
    "            cmd_filelist = \"C:\\\\Users\\\\Jegan\\\\Downloads\\\\ffmpeg\\\\bin\\\\ffmpeg.exe -i \\\"\" + loc + \"\\\" -filter:v scale=\\\"640:trunc(ow/a/2)*2\\\" -b:v 128k -b:a 100k -r 20 \\\"\" + dest_dir_name + filename + \".mp4\\\"\"\n",
    "            try:\n",
    "                tosmmp4(loc, dest_dir_name + \"/\" + os.path.splitext(os.path.basename(filename))[0] + \".mp4\")\n",
    "                print(loc)\n",
    "                print(f'-------------------{i} / {totalfiles}----------------------')\n",
    "                shutil.move(src=loc, dst=bin_dir_name)\n",
    "            except:\n",
    "                print(\"*****************FAILED***************\" + loc)\n",
    "            i = i + 1\n",
    "from os import listdir\n",
    "import os\n",
    "import ffmpy\n",
    "from os.path import isfile, join\n",
    "import shutil\n",
    "\n",
    "def shrinkVideos(dir_name, dest_dir_name, bin_dir_name):\n",
    "    onlyfiles = [(join(dir_name, f), f) for f in listdir(dir_name) if isfile(join(dir_name, f))]\n",
    "    totalfiles = len(onlyfiles)\n",
    "    onlyfiles.sort()\n",
    "    i=1\n",
    "    onlyfiles.sort\n",
    "    minutestime = []\n",
    "    totalminutes = getDurationDir(dir_name)\n",
    "    for loc, filename in onlyfiles:\n",
    "        if loc.endswith(\".avi\") or loc.endswith(\".mp4\") or loc.endswith(\".MP4\") or loc.endswith(\".mkv\") or loc.endswith(\".mpg\") or loc.endswith(\".flv\"):\n",
    "#             print(loc)\n",
    "            import datetime\n",
    "            print(f'-------------------{i} / {totalfiles}----------------------')\n",
    "#             2 minutes for 23 minutes\n",
    "#             1 minute for 12 minutes\n",
    "            import time\n",
    "            \n",
    "            print(f'--- Estimate {time.ctime(time.time() + round(totalminutes * 15))}')\n",
    "            cmd_filelist = \"C:\\\\Users\\\\Jegan\\\\Downloads\\\\ffmpeg\\\\bin\\\\ffmpeg.exe -i \\\"\" + loc + \"\\\" -filter:v scale=\\\"640:trunc(ow/a/2)*2\\\" -b:v 128k -b:a -bsf:v h264_mp4toannexb 100k -r 20 \\\"\" + dest_dir_name + filename + \".mp4\\\"\"\n",
    "            try:\n",
    "                dur = getDuration(loc)\n",
    "                timetaken = tomp4(loc, dest_dir_name + \"/\" + os.path.splitext(os.path.basename(filename))[0] + \".mp4\")\n",
    "                minutestime.append((dur, totalminutes))\n",
    "                shutil.move(src=loc, dst=bin_dir_name)\n",
    "                totalminutes -= dur\n",
    "                \n",
    "            except:\n",
    "                print(\"*****************FAILED***************\" + loc)\n",
    "            i = i + 1\n",
    "#             break\n",
    "    return minutestime\n",
    "\n",
    "from bs4 import BeautifulSoup\n",
    "import urllib3\n",
    "http = urllib3.PoolManager()\n",
    "from bs4 import BeautifulSoup\n",
    "import urllib3\n",
    "import re\n",
    "\n",
    "def downloadfile(url, path):\n",
    "    import urllib3\n",
    "    http = urllib3.PoolManager()\n",
    "    r = http.request('GET', url, preload_content=False)\n",
    "\n",
    "    with open(path, 'wb') as out:\n",
    "        while True:\n",
    "            data = r.read(1024 * 1024 * 30)\n",
    "            if not data:\n",
    "                break\n",
    "            out.write(data)\n",
    "\n",
    "    r.release_conn()\n",
    "\n",
    "\n",
    "def downloadFromFTP(urls, convert, extension):\n",
    "    for url in urls:\n",
    "        response = http.request('GET', url)\n",
    "        print(response)\n",
    "        soup = BeautifulSoup(response.data)\n",
    "        links = []\n",
    "        import os\n",
    "        i = 0\n",
    "        t = True\n",
    "\n",
    "        for link in soup.findAll('a', attrs={'href': re.compile(extension)}):\n",
    "            i = i + 1\n",
    "#             if '1-25.flv' == link.get('href'):\n",
    "#                 t = True\n",
    "            if i > 10 and link.get('href') not in links and t == True:\n",
    "                links.append(link.get('href'))\n",
    "                print(link.get('href'))\n",
    "                downloadfile(url+link.get('href'), convert + os.path.basename( link.get('href')))\n",
    "\n",
    "\n",
    "import os\n",
    "import subprocess\n",
    "import time\n",
    "from os import listdir\n",
    "import os\n",
    "from os.path import isfile, join\n",
    "import shutil\n",
    "\n",
    "def removeHyphen(dir_name):\n",
    "    import shutil\n",
    "    from os import listdir\n",
    "    video_files = video_files_ffmpeg\n",
    "    base_dir = dir_name\n",
    "\n",
    "    files = []\n",
    "    onlyfiles = [(join(dir_name, f), f) for f in listdir(dir_name) if isfile(join(dir_name, f))]\n",
    "    onlyfiles.sort()\n",
    "    for loc, filename in onlyfiles:\n",
    "        if loc.endswith(extension):\n",
    "            files.append(loc)\n",
    "    for f in files:\n",
    "        if f.find(\"\\'\") != -1:\n",
    "            r = f.replace(\"\\'\", \"\")\n",
    "            shutil.move(src=f, dst=r)\n",
    "\n",
    "def concatenateFiles(dir_name, video_files_ffmpeg, extension, output_file, group=None):\n",
    "    removeHyphen(dir_name)\n",
    "    \n",
    "    import time\n",
    "    totalminutes = getDurationDir(dir_name)\n",
    "    print(f'--- Estimate {time.ctime(time.time() + round(totalminutes * 254 / 851))}')\n",
    "    start_time = time.time()\n",
    "    \n",
    "    video_files = video_files_ffmpeg\n",
    "    base_dir = dir_name\n",
    "\n",
    "    files = []\n",
    "    onlyfiles = [(join(dir_name, f), f) for f in listdir(dir_name) if isfile(join(dir_name, f))]\n",
    "    onlyfiles.sort()\n",
    "    for loc, filename in onlyfiles:\n",
    "        if loc.endswith(extension):\n",
    "            files.append(loc)\n",
    "    files.sort()\n",
    "    if group == None:\n",
    "        group = len(files)\n",
    "    i = 0\n",
    "    tempfiles = []\n",
    "    for f in files:\n",
    "        tempfiles.append(f)\n",
    "        i = i + 1\n",
    "\n",
    "        if i % group == 0:\n",
    "            file_list = open(video_files, \"w\")\n",
    "            for tee in tempfiles:\n",
    "                file_list.write(\"file '%s'\\n\" % tee)\n",
    "            file_list.close()\n",
    "            cmd = [\"ffmpeg\",\n",
    "                   \"-f\",\n",
    "                   \"concat\",\n",
    "                   \"-safe\",\n",
    "                   \"0\",\n",
    "                   \"-loglevel\",\n",
    "                   \"quiet\",\n",
    "                   \"-i\",\n",
    "                   \"%s\" % video_files,\n",
    "                   \"-c\",\n",
    "                   \"copy\",\n",
    "                   \"%s\" % (output_file + str(i)+\".mp4\")\n",
    "                   ]\n",
    "            p = subprocess.Popen(cmd, stdin=subprocess.PIPE)\n",
    "            fout = p.stdin\n",
    "            fout.close()\n",
    "            p.wait()\n",
    "            print(p.returncode)\n",
    "            tempfiles = []\n",
    "    if len(tempfiles) > 0:\n",
    "        file_list = open(video_files, \"w\")\n",
    "        for tee in tempfiles:\n",
    "            file_list.write(\"file '%s'\\n\" % tee)\n",
    "        file_list.close()\n",
    "        cmd = [\"ffmpeg\",\n",
    "               \"-f\",\n",
    "               \"concat\",\n",
    "               \"-safe\",\n",
    "               \"0\",\n",
    "               \"-loglevel\",\n",
    "               \"quiet\",\n",
    "               \"-i\",\n",
    "               \"%s\" % video_files,\n",
    "               \"-c\",\n",
    "               \"copy\",\n",
    "               \"%s\" % (output_file + str(i)+\".mp4\")\n",
    "               ]\n",
    "        p = subprocess.Popen(cmd, stdin=subprocess.PIPE)\n",
    "        fout = p.stdin\n",
    "        fout.close()\n",
    "        p.wait()\n",
    "        print(p.returncode)\n",
    "        tempfiles = []\n",
    "    \n",
    "    print(f\"---- {output_file} --- {(time.time() - start_time)} seconds ---\")\n",
    "    return (time.time() - start_time)\n",
    "        \n",
    "\n",
    "import zipfile\n",
    "from unrar import rarfile\n",
    "import os\n",
    "import subprocess\n",
    "import time\n",
    "from os import listdir\n",
    "import os\n",
    "from os.path import isfile, join\n",
    "import shutil\n",
    "import glob, os\n",
    "\n",
    "def extractZip(dir_name, convert, delfol):\n",
    "    loop = True\n",
    "    kkk = 0\n",
    "    while(loop == True):\n",
    "        os.chdir(dir_name)\n",
    "        unpacked = 0\n",
    "        result = []\n",
    "        for file in glob.glob(\"*.cbr\"):\n",
    "            result.append(dir_name + file)\n",
    "        for file in glob.glob(\"*.cbz\"):\n",
    "            result.append(dir_name + file)\n",
    "        for file in glob.glob(\"*.zip\"):\n",
    "            result.append(dir_name + file)\n",
    "        for file in glob.glob(\"*.rar\"):\n",
    "            result.append(dir_name + file)\n",
    "\n",
    "\n",
    "        import shutil\n",
    "\n",
    "        for loc in result:\n",
    "            shutil.move(src=loc, dst=convert)\n",
    "\n",
    "        os.chdir(convert)\n",
    "        result = []\n",
    "        for file in glob.glob(\"**/*.cbr\", recursive=True):\n",
    "            result.append((convert +file, file[0:-4]))\n",
    "        for file in glob.glob(\"**/*.cbz\", recursive=True):\n",
    "            result.append((convert + file, file[0:-4]))\n",
    "        for file in glob.glob(\"**/*.rar\", recursive=True):\n",
    "            result.append((convert + file, file[0:-4]))\n",
    "        for file in glob.glob(\"**/*.zip\", recursive=True):\n",
    "            result.append((convert + file, file[0:-4]))\n",
    "        if len(result) == 0:\n",
    "            loop = False\n",
    "            \n",
    "        for (filename, title) in result:\n",
    "            os.system(f'mkdir \"{convert+title}\"')\n",
    "            import subprocess\n",
    "            params = f' x -o+ \"{filename}\" *.* \"{convert+title}\"'\n",
    "            print(os.path.dirname(convert+title), \"|\", convert+title)\n",
    "    #         try:\n",
    "    #             rar = rarfile.RarFile(filename)\n",
    "    #             rar.extractall(convert+title)\n",
    "\n",
    "    #         except:\n",
    "    #             rar = zipfile.ZipFile(filename)\n",
    "    #             rar.extractall(convert+title)\n",
    "            pyunpack.Archive(filename).extractall(convert+title)\n",
    "\n",
    "            params = ''\n",
    "            deleteplace = convert+\"delete\"\n",
    "            shutil.move(src=filename, dst=delfol+\"/\"+os.path.basename(filename)+str(kkk))\n",
    "            kkk = kkk + 1\n",
    "#             dir_name = \"/Users/sjegan/Downloads/com2/\"\n",
    "            restucturedir(convert)\n",
    "\n",
    "        print(\"done\")\n",
    "    restucturedir(convert)\n",
    "\n",
    "\n",
    "def restructure(onlyfiles):\n",
    "    for (subf, title) in onlyfiles:\n",
    "#         print(subf)\n",
    "        files = [(join(subf, f), f) for f in listdir(subf) if (not f.endswith('DS_Store')) and os.path.isfile(join(subf, f))]\n",
    "        for (filename, title) in files:\n",
    "            if \"zzz\" in title:\n",
    "                os.remove(filename)\n",
    "        folders = [(join(subf, f), f) for f in listdir(subf) if (not f.endswith('DS_Store')) and os.path.isdir(join(subf, f))]\n",
    "        if len(files) == 0 and len(folders) == 0:\n",
    "            shutil.rmtree(subf)\n",
    "            continue\n",
    "        if len(files) == 0 and len(folders) == 1:\n",
    "#             print(\"YES\")\n",
    "\n",
    "            for (fold, title) in folders:\n",
    "                subfiles = [(join(fold, f), f) for f in listdir(fold) if (not f.endswith('DS_Store'))]\n",
    "\n",
    "#                 print(fold, \"|\",subf)\n",
    "                for (subfile, titlesub) in subfiles:\n",
    "                    shutil.move(src=subfile,dst=subf)\n",
    "        onlyfiles = [(join(subf, f), f) for f in listdir(subf) if (not f.endswith('DS_Store')) and os.path.isdir(join(subf, f))]\n",
    "        restructure(onlyfiles)\n",
    "\n",
    "def restucturedir(dir_name):\n",
    "    files = []\n",
    "    folders = []\n",
    "    onlyfiles = [(join(dir_name, f), f) for f in listdir(dir_name) if (not f.endswith('DS_Store')) and os.path.isdir(join(dir_name, f))]\n",
    "    onlyfiles.sort()\n",
    "    restructure(onlyfiles)\n",
    "\n",
    "def extractNShrink(dir_name, convert, delfol, finaldir):\n",
    "    extractZip(dir_name, convert, delfol)\n",
    "    shrinkImages(convert)\n",
    "    onlyfiles = [(join(convert, f), f) for f in listdir(convert) if (not f.endswith('DS_Store'))]\n",
    "    for (f,t) in onlyfiles:\n",
    "        shutil.move(src=f, dst=finaldir)\n",
    "\n",
    "\n",
    "def numberingFiles(dir_name):\n",
    "    files = []\n",
    "    folders = []\n",
    "    onlyfiles = [(join(dir_name, f), f) for f in listdir(dir_name) if (not f.endswith('DS_Store')) and os.path.isdir(join(dir_name, f))]\n",
    "    onlyfiles.sort()\n",
    "\n",
    "    for (subf, title) in onlyfiles:\n",
    "    #         print(subf)\n",
    "        files = [(join(subf, f), f) for f in listdir(subf) if (not f.endswith('DS_Store')) and os.path.isfile(join(subf, f))]\n",
    "        folders = [(join(subf, f), f) for f in listdir(subf) if (not f.endswith('DS_Store')) and os.path.isdir(join(subf, f))]\n",
    "        if len(folders) > 0:\n",
    "            os.chdir(subf)\n",
    "            result = []\n",
    "            for file in glob.glob(\"**/*.jpg\", recursive=True):\n",
    "                result.append((subf + \"/\"+file, file))\n",
    "            for file in glob.glob(\"**/*.jpeg\", recursive=True):\n",
    "                result.append((subf + \"/\"+ file, file))\n",
    "            for file in glob.glob(\"**/*.JPG\", recursive=True):\n",
    "                result.append((subf + \"/\"+ file, file))\n",
    "            for file in glob.glob(\"**/*.JPEG\", recursive=True):\n",
    "                result.append((subf + \"/\"+ file, file))\n",
    "            for file in glob.glob(\"**/*.png\", recursive=True):\n",
    "                result.append((subf + \"/\"+ file, file))\n",
    "            for file in glob.glob(\"**/*.PNG\", recursive=True):\n",
    "                result.append((subf + \"/\"+ file, file))\n",
    "            result.sort()\n",
    "            digits = 1 if len(result) < 10 else (2 if len(result) < 100 else (3 if len(result) < 1000 else 4))\n",
    "            j = 1\n",
    "            for (r, title) in result:\n",
    "                dest = (f'{subf}/{str(j).zfill(digits)} {os.path.basename(title)}')\n",
    "                shutil.move(src=r, dst=dest)\n",
    "                j = j+1\n",
    "\n",
    "        restucturedir(dir_name)\n",
    "        restucturedir(dir_name)\n",
    "        restucturedir(dir_name)\n",
    "\n",
    "def makeZips(dirName):\n",
    "    import shutil\n",
    "    listOfFile = os.listdir(dirName)\n",
    "    allFiles = list()\n",
    "    for entry in listOfFile:\n",
    "        fullPath = os.path.join(dirName, entry)\n",
    "        if os.path.isdir(fullPath):\n",
    "    #         print(fullPath)\n",
    "            shutil.make_archive(fullPath, 'zip', fullPath)\n",
    "            shutil.rmtree(fullPath)\n",
    "\n",
    "def renameNRestructure(dir_name):\n",
    "    files = []\n",
    "    folders = []\n",
    "    onlyfiles = [(join(dir_name, f), f) for f in listdir(dir_name) if (not f.endswith('DS_Store')) and os.path.isdir(join(dir_name, f))]\n",
    "    onlyfiles.sort()\n",
    "\n",
    "    for (subf, title) in onlyfiles:\n",
    "    #         print(subf)\n",
    "#         print(title)\n",
    "        title2 = title\n",
    "        files = [(join(subf, f), f) for f in listdir(subf) if (not f.endswith('DS_Store')) and os.path.isfile(join(subf, f))]\n",
    "        folders = [(join(subf, f), f) for f in listdir(subf) if (not f.endswith('DS_Store')) and os.path.isdir(join(subf, f))]\n",
    "        if len(folders) > 0:\n",
    "            os.chdir(subf)\n",
    "            result = []\n",
    "            for file in glob.glob(\"**/*.jpg\", recursive=True):\n",
    "                result.append((subf + \"/\"+file, file))\n",
    "            for file in glob.glob(\"**/*.jpeg\", recursive=True):\n",
    "                result.append((subf + \"/\"+ file, file))\n",
    "            for file in glob.glob(\"**/*.JPG\", recursive=True):\n",
    "                result.append((subf + \"/\"+ file, file))\n",
    "            for file in glob.glob(\"**/*.JPEG\", recursive=True):\n",
    "                result.append((subf + \"/\"+ file, file))\n",
    "            for file in glob.glob(\"**/*.png\", recursive=True):\n",
    "                result.append((subf + \"/\"+ file, file))\n",
    "            for file in glob.glob(\"**/*.PNG\", recursive=True):\n",
    "                result.append((subf + \"/\"+ file, file))\n",
    "            result.sort()\n",
    "            digits = 1 if len(result) < 10 else (2 if len(result) < 100 else (3 if len(result) < 1000 else 4))\n",
    "            j = 1\n",
    "            for (r, title) in result:\n",
    "                dest = (f'{subf}/{title2}{str(j).zfill(digits)} {os.path.basename(title)}')\n",
    "    #             print(dest)\n",
    "    #             break\n",
    "                shutil.move(src=r, dst=dest)\n",
    "                j = j+1\n",
    "\n",
    "        restucturedir(dir_name)\n",
    "        restucturedir(dir_name)\n",
    "        restucturedir(dir_name)\n",
    "        \n",
    "def removeTxt(dir_name):\n",
    "    files = []\n",
    "    folders = []\n",
    "    onlyfiles = [(join(dir_name, f), f) for f in listdir(dir_name) if (not f.endswith('DS_Store')) and os.path.isdir(join(dir_name, f))]\n",
    "    onlyfiles.sort()\n",
    "\n",
    "    for (subf, title) in onlyfiles:\n",
    "    #         print(subf)\n",
    "#         print(title)\n",
    "        title2 = title\n",
    "        files = [(join(subf, f), f) for f in listdir(subf) if (not f.endswith('DS_Store')) and os.path.isfile(join(subf, f))]\n",
    "        folders = [(join(subf, f), f) for f in listdir(subf) if (not f.endswith('DS_Store')) and os.path.isdir(join(subf, f))]\n",
    "        if len(folders) > 0:\n",
    "            os.chdir(subf)\n",
    "            result = []\n",
    "            for file in glob.glob(\"**/*.txt\", recursive=True):\n",
    "                result.append((subf + \"/\"+file, file))\n",
    "            result.sort()\n",
    "            for (r, title) in result:\n",
    "                os.remove(r)\n",
    "\n",
    "        restucturedir(dir_name)\n",
    "        restucturedir(dir_name)\n",
    "        restucturedir(dir_name)"
   ]
  },
  {
   "cell_type": "code",
   "execution_count": null,
   "metadata": {
    "scrolled": true
   },
   "outputs": [
    {
     "name": "stdout",
     "output_type": "stream",
     "text": [
      "Directory in Minutes = 1253\n",
      "-------------------1 / 27----------------------\n",
      "--- Estimate Mon Nov  4 03:43:11 2019\n",
      "FileDuration --- /Users/sjegan/Downloads/untitled folder 3/Narcos.S01E06.720p.BluRay.DD5.1.x264-ITSat.mp4 = 49\n",
      "ffmpeg -i \"/Users/sjegan/Downloads/untitled folder 3/Narcos.S01E06.720p.BluRay.DD5.1.x264-ITSat.mp4\" -af apad -shortest -avoid_negative_ts make_zero -fflags +genpts -vcodec libx264 -acodec aac -preset faster -tune film -strict -2 -filter:v scale=640:trunc(ow/a/2)*2 -b:v 128k -b:a 100k -r 20 -map 0:v:0 -map 0:a:0 /Users/sjegan/Downloads/dest/Narcos.S01E06.720p.BluRay.DD5.1.x264-ITSat.mp4\n",
      "---- /Users/sjegan/Downloads/dest/Narcos.S01E06.720p.BluRay.DD5.1.x264-ITSat.mp4 --- 439.21134424209595 seconds ---\n",
      "-------------------2 / 27----------------------\n",
      "--- Estimate Mon Nov  4 03:38:16 2019\n",
      "FileDuration --- /Users/sjegan/Downloads/untitled folder 3/Narcos.S01E07.720p.BluRay.DD5.1.x264-ITSat.mp4 = 51\n",
      "ffmpeg -i \"/Users/sjegan/Downloads/untitled folder 3/Narcos.S01E07.720p.BluRay.DD5.1.x264-ITSat.mp4\" -af apad -shortest -avoid_negative_ts make_zero -fflags +genpts -vcodec libx264 -acodec aac -preset faster -tune film -strict -2 -filter:v scale=640:trunc(ow/a/2)*2 -b:v 128k -b:a 100k -r 20 -map 0:v:0 -map 0:a:0 /Users/sjegan/Downloads/dest/Narcos.S01E07.720p.BluRay.DD5.1.x264-ITSat.mp4\n",
      "---- /Users/sjegan/Downloads/dest/Narcos.S01E07.720p.BluRay.DD5.1.x264-ITSat.mp4 --- 398.74615716934204 seconds ---\n",
      "-------------------3 / 27----------------------\n",
      "--- Estimate Mon Nov  4 03:32:10 2019\n",
      "FileDuration --- /Users/sjegan/Downloads/untitled folder 3/Narcos.S01E08.720p.BluRay.DD5.1.x264-ITSat.mp4 = 51\n",
      "ffmpeg -i \"/Users/sjegan/Downloads/untitled folder 3/Narcos.S01E08.720p.BluRay.DD5.1.x264-ITSat.mp4\" -af apad -shortest -avoid_negative_ts make_zero -fflags +genpts -vcodec libx264 -acodec aac -preset faster -tune film -strict -2 -filter:v scale=640:trunc(ow/a/2)*2 -b:v 128k -b:a 100k -r 20 -map 0:v:0 -map 0:a:0 /Users/sjegan/Downloads/dest/Narcos.S01E08.720p.BluRay.DD5.1.x264-ITSat.mp4\n",
      "---- /Users/sjegan/Downloads/dest/Narcos.S01E08.720p.BluRay.DD5.1.x264-ITSat.mp4 --- 413.2446060180664 seconds ---\n",
      "-------------------4 / 27----------------------\n",
      "--- Estimate Mon Nov  4 03:26:18 2019\n",
      "FileDuration --- /Users/sjegan/Downloads/untitled folder 3/Narcos.S01E09.720p.BluRay.DD5.1.x264-ITSat.mp4 = 51\n",
      "ffmpeg -i \"/Users/sjegan/Downloads/untitled folder 3/Narcos.S01E09.720p.BluRay.DD5.1.x264-ITSat.mp4\" -af apad -shortest -avoid_negative_ts make_zero -fflags +genpts -vcodec libx264 -acodec aac -preset faster -tune film -strict -2 -filter:v scale=640:trunc(ow/a/2)*2 -b:v 128k -b:a 100k -r 20 -map 0:v:0 -map 0:a:0 /Users/sjegan/Downloads/dest/Narcos.S01E09.720p.BluRay.DD5.1.x264-ITSat.mp4\n",
      "---- /Users/sjegan/Downloads/dest/Narcos.S01E09.720p.BluRay.DD5.1.x264-ITSat.mp4 --- 446.6598153114319 seconds ---\n",
      "-------------------5 / 27----------------------\n",
      "--- Estimate Mon Nov  4 03:21:00 2019\n",
      "FileDuration --- /Users/sjegan/Downloads/untitled folder 3/Narcos.S01E10.720p.BluRay.DD5.1.x264-ITSat.mp4 = 45\n",
      "ffmpeg -i \"/Users/sjegan/Downloads/untitled folder 3/Narcos.S01E10.720p.BluRay.DD5.1.x264-ITSat.mp4\" -af apad -shortest -avoid_negative_ts make_zero -fflags +genpts -vcodec libx264 -acodec aac -preset faster -tune film -strict -2 -filter:v scale=640:trunc(ow/a/2)*2 -b:v 128k -b:a 100k -r 20 -map 0:v:0 -map 0:a:0 /Users/sjegan/Downloads/dest/Narcos.S01E10.720p.BluRay.DD5.1.x264-ITSat.mp4\n",
      "---- /Users/sjegan/Downloads/dest/Narcos.S01E10.720p.BluRay.DD5.1.x264-ITSat.mp4 --- 382.73703598976135 seconds ---\n",
      "-------------------6 / 27----------------------\n",
      "--- Estimate Mon Nov  4 03:16:08 2019\n",
      "FileDuration --- /Users/sjegan/Downloads/untitled folder 3/Narcos.S02E02.720p.WEBRip.x264-ITSat.mp4 = 47\n",
      "ffmpeg -i \"/Users/sjegan/Downloads/untitled folder 3/Narcos.S02E02.720p.WEBRip.x264-ITSat.mp4\" -af apad -shortest -avoid_negative_ts make_zero -fflags +genpts -vcodec libx264 -acodec aac -preset faster -tune film -strict -2 -filter:v scale=640:trunc(ow/a/2)*2 -b:v 128k -b:a 100k -r 20 -map 0:v:0 -map 0:a:0 /Users/sjegan/Downloads/dest/Narcos.S02E02.720p.WEBRip.x264-ITSat.mp4\n",
      "---- /Users/sjegan/Downloads/dest/Narcos.S02E02.720p.WEBRip.x264-ITSat.mp4 --- 378.72128200531006 seconds ---\n",
      "-------------------7 / 27----------------------\n",
      "--- Estimate Mon Nov  4 03:10:42 2019\n",
      "FileDuration --- /Users/sjegan/Downloads/untitled folder 3/Narcos.S02E03.720p.WEBRip.x264-ITSat.mp4 = 46\n",
      "ffmpeg -i \"/Users/sjegan/Downloads/untitled folder 3/Narcos.S02E03.720p.WEBRip.x264-ITSat.mp4\" -af apad -shortest -avoid_negative_ts make_zero -fflags +genpts -vcodec libx264 -acodec aac -preset faster -tune film -strict -2 -filter:v scale=640:trunc(ow/a/2)*2 -b:v 128k -b:a 100k -r 20 -map 0:v:0 -map 0:a:0 /Users/sjegan/Downloads/dest/Narcos.S02E03.720p.WEBRip.x264-ITSat.mp4\n",
      "---- /Users/sjegan/Downloads/dest/Narcos.S02E03.720p.WEBRip.x264-ITSat.mp4 --- 374.1845910549164 seconds ---\n",
      "-------------------8 / 27----------------------\n",
      "--- Estimate Mon Nov  4 03:05:27 2019\n",
      "FileDuration --- /Users/sjegan/Downloads/untitled folder 3/Narcos.S02E04.720p.WEBRip.x264-ITSat.mp4 = 56\n",
      "ffmpeg -i \"/Users/sjegan/Downloads/untitled folder 3/Narcos.S02E04.720p.WEBRip.x264-ITSat.mp4\" -af apad -shortest -avoid_negative_ts make_zero -fflags +genpts -vcodec libx264 -acodec aac -preset faster -tune film -strict -2 -filter:v scale=640:trunc(ow/a/2)*2 -b:v 128k -b:a 100k -r 20 -map 0:v:0 -map 0:a:0 /Users/sjegan/Downloads/dest/Narcos.S02E04.720p.WEBRip.x264-ITSat.mp4\n",
      "---- /Users/sjegan/Downloads/dest/Narcos.S02E04.720p.WEBRip.x264-ITSat.mp4 --- 468.2647120952606 seconds ---\n",
      "-------------------9 / 27----------------------\n",
      "--- Estimate Mon Nov  4 02:59:15 2019\n",
      "FileDuration --- /Users/sjegan/Downloads/untitled folder 3/Narcos.S02E05.720p.WEBRip.x264-ITSat.mp4 = 52\n",
      "ffmpeg -i \"/Users/sjegan/Downloads/untitled folder 3/Narcos.S02E05.720p.WEBRip.x264-ITSat.mp4\" -af apad -shortest -avoid_negative_ts make_zero -fflags +genpts -vcodec libx264 -acodec aac -preset faster -tune film -strict -2 -filter:v scale=640:trunc(ow/a/2)*2 -b:v 128k -b:a 100k -r 20 -map 0:v:0 -map 0:a:0 /Users/sjegan/Downloads/dest/Narcos.S02E05.720p.WEBRip.x264-ITSat.mp4\n",
      "---- /Users/sjegan/Downloads/dest/Narcos.S02E05.720p.WEBRip.x264-ITSat.mp4 --- 402.1149547100067 seconds ---\n",
      "-------------------10 / 27----------------------\n",
      "--- Estimate Mon Nov  4 02:52:57 2019\n",
      "FileDuration --- /Users/sjegan/Downloads/untitled folder 3/Narcos.S02E06.720p.WEBRip.x264-ITSat.mp4 = 54\n",
      "ffmpeg -i \"/Users/sjegan/Downloads/untitled folder 3/Narcos.S02E06.720p.WEBRip.x264-ITSat.mp4\" -af apad -shortest -avoid_negative_ts make_zero -fflags +genpts -vcodec libx264 -acodec aac -preset faster -tune film -strict -2 -filter:v scale=640:trunc(ow/a/2)*2 -b:v 128k -b:a 100k -r 20 -map 0:v:0 -map 0:a:0 /Users/sjegan/Downloads/dest/Narcos.S02E06.720p.WEBRip.x264-ITSat.mp4\n",
      "---- /Users/sjegan/Downloads/dest/Narcos.S02E06.720p.WEBRip.x264-ITSat.mp4 --- 416.1641409397125 seconds ---\n",
      "-------------------11 / 27----------------------\n",
      "--- Estimate Mon Nov  4 02:46:24 2019\n",
      "FileDuration --- /Users/sjegan/Downloads/untitled folder 3/Narcos.S02E07.720p.WEBRip.x264-ITSat.mp4 = 56\n",
      "ffmpeg -i \"/Users/sjegan/Downloads/untitled folder 3/Narcos.S02E07.720p.WEBRip.x264-ITSat.mp4\" -af apad -shortest -avoid_negative_ts make_zero -fflags +genpts -vcodec libx264 -acodec aac -preset faster -tune film -strict -2 -filter:v scale=640:trunc(ow/a/2)*2 -b:v 128k -b:a 100k -r 20 -map 0:v:0 -map 0:a:0 /Users/sjegan/Downloads/dest/Narcos.S02E07.720p.WEBRip.x264-ITSat.mp4\n",
      "---- /Users/sjegan/Downloads/dest/Narcos.S02E07.720p.WEBRip.x264-ITSat.mp4 --- 677.5318417549133 seconds ---\n",
      "-------------------12 / 27----------------------\n",
      "--- Estimate Mon Nov  4 02:43:42 2019\n",
      "FileDuration --- /Users/sjegan/Downloads/untitled folder 3/Narcos.S02E08.720p.WEBRip.x264-ITSat.mp4 = 54\n",
      "ffmpeg -i \"/Users/sjegan/Downloads/untitled folder 3/Narcos.S02E08.720p.WEBRip.x264-ITSat.mp4\" -af apad -shortest -avoid_negative_ts make_zero -fflags +genpts -vcodec libx264 -acodec aac -preset faster -tune film -strict -2 -filter:v scale=640:trunc(ow/a/2)*2 -b:v 128k -b:a 100k -r 20 -map 0:v:0 -map 0:a:0 /Users/sjegan/Downloads/dest/Narcos.S02E08.720p.WEBRip.x264-ITSat.mp4\n",
      "---- /Users/sjegan/Downloads/dest/Narcos.S02E08.720p.WEBRip.x264-ITSat.mp4 --- 432.8498709201813 seconds ---\n",
      "-------------------13 / 27----------------------\n",
      "--- Estimate Mon Nov  4 02:37:25 2019\n"
     ]
    },
    {
     "name": "stdout",
     "output_type": "stream",
     "text": [
      "FileDuration --- /Users/sjegan/Downloads/untitled folder 3/Narcos.S02E09.720p.WEBRip.x264-ITSat.mp4 = 56\n",
      "ffmpeg -i \"/Users/sjegan/Downloads/untitled folder 3/Narcos.S02E09.720p.WEBRip.x264-ITSat.mp4\" -af apad -shortest -avoid_negative_ts make_zero -fflags +genpts -vcodec libx264 -acodec aac -preset faster -tune film -strict -2 -filter:v scale=640:trunc(ow/a/2)*2 -b:v 128k -b:a 100k -r 20 -map 0:v:0 -map 0:a:0 /Users/sjegan/Downloads/dest/Narcos.S02E09.720p.WEBRip.x264-ITSat.mp4\n",
      "---- /Users/sjegan/Downloads/dest/Narcos.S02E09.720p.WEBRip.x264-ITSat.mp4 --- 400.74721598625183 seconds ---\n",
      "-------------------14 / 27----------------------\n",
      "--- Estimate Mon Nov  4 02:30:06 2019\n",
      "FileDuration --- /Users/sjegan/Downloads/untitled folder 3/Narcos.S02E10.720p.WEBRip.x264-ITSat.mp4 = 53\n",
      "ffmpeg -i \"/Users/sjegan/Downloads/untitled folder 3/Narcos.S02E10.720p.WEBRip.x264-ITSat.mp4\" -af apad -shortest -avoid_negative_ts make_zero -fflags +genpts -vcodec libx264 -acodec aac -preset faster -tune film -strict -2 -filter:v scale=640:trunc(ow/a/2)*2 -b:v 128k -b:a 100k -r 20 -map 0:v:0 -map 0:a:0 /Users/sjegan/Downloads/dest/Narcos.S02E10.720p.WEBRip.x264-ITSat.mp4\n",
      "---- /Users/sjegan/Downloads/dest/Narcos.S02E10.720p.WEBRip.x264-ITSat.mp4 --- 376.20522713661194 seconds ---\n",
      "-------------------15 / 27----------------------\n",
      "--- Estimate Mon Nov  4 02:23:07 2019\n",
      "FileDuration --- /Users/sjegan/Downloads/untitled folder 3/Narcos.S03E01.The.Kingpin.Strategy.720p.NF.WEB-DL.DD5.1.x264-NTb.mkv = 55\n",
      "ffmpeg -i \"/Users/sjegan/Downloads/untitled folder 3/Narcos.S03E01.The.Kingpin.Strategy.720p.NF.WEB-DL.DD5.1.x264-NTb.mkv\" -af apad -shortest -avoid_negative_ts make_zero -fflags +genpts -vcodec libx264 -acodec aac -preset faster -tune film -strict -2 -filter:v scale=640:trunc(ow/a/2)*2 -b:v 128k -b:a 100k -r 20 -map 0:v:0 -map 0:a:0 /Users/sjegan/Downloads/dest/Narcos.S03E01.The.Kingpin.Strategy.720p.NF.WEB-DL.DD5.1.x264-NTb.mp4\n",
      "---- /Users/sjegan/Downloads/dest/Narcos.S03E01.The.Kingpin.Strategy.720p.NF.WEB-DL.DD5.1.x264-NTb.mp4 --- 506.3060977458954 seconds ---\n",
      "-------------------16 / 27----------------------\n",
      "--- Estimate Mon Nov  4 02:17:49 2019\n",
      "FileDuration --- /Users/sjegan/Downloads/untitled folder 3/Narcos.S03E02.The.Cali.KGB.720p.NF.WEB-DL.DD5.1.x264-NTb.mkv = 49\n",
      "ffmpeg -i \"/Users/sjegan/Downloads/untitled folder 3/Narcos.S03E02.The.Cali.KGB.720p.NF.WEB-DL.DD5.1.x264-NTb.mkv\" -af apad -shortest -avoid_negative_ts make_zero -fflags +genpts -vcodec libx264 -acodec aac -preset faster -tune film -strict -2 -filter:v scale=640:trunc(ow/a/2)*2 -b:v 128k -b:a 100k -r 20 -map 0:v:0 -map 0:a:0 /Users/sjegan/Downloads/dest/Narcos.S03E02.The.Cali.KGB.720p.NF.WEB-DL.DD5.1.x264-NTb.mp4\n",
      "---- /Users/sjegan/Downloads/dest/Narcos.S03E02.The.Cali.KGB.720p.NF.WEB-DL.DD5.1.x264-NTb.mp4 --- 621.9742257595062 seconds ---\n",
      "-------------------17 / 27----------------------\n",
      "--- Estimate Mon Nov  4 02:15:57 2019\n",
      "FileDuration --- /Users/sjegan/Downloads/untitled folder 3/Narcos.S03E03.Follow.the.Money.720p.NF.WEB-DL.DD5.1.x264-NTb.mkv = 59\n",
      "ffmpeg -i \"/Users/sjegan/Downloads/untitled folder 3/Narcos.S03E03.Follow.the.Money.720p.NF.WEB-DL.DD5.1.x264-NTb.mkv\" -af apad -shortest -avoid_negative_ts make_zero -fflags +genpts -vcodec libx264 -acodec aac -preset faster -tune film -strict -2 -filter:v scale=640:trunc(ow/a/2)*2 -b:v 128k -b:a 100k -r 20 -map 0:v:0 -map 0:a:0 /Users/sjegan/Downloads/dest/Narcos.S03E03.Follow.the.Money.720p.NF.WEB-DL.DD5.1.x264-NTb.mp4\n"
     ]
    }
   ],
   "source": [
    "\n",
    "dir_name = \"/Users/sjegan/Downloads/untitled folder 3\"\n",
    "dest_dir_name = \"/Users/sjegan/Downloads/dest\"\n",
    "bin_dir_name = \"/Users/sjegan/Downloads/dest/del\"\n",
    "\n",
    "minutestime = shrinkVideos(dir_name, dest_dir_name, bin_dir_name)\n",
    "\n"
   ]
  },
  {
   "cell_type": "code",
   "execution_count": null,
   "metadata": {
    "scrolled": true
   },
   "outputs": [
    {
     "name": "stdout",
     "output_type": "stream",
     "text": [
      "/Users/sjegan/Downloads/untitled folder 3/Death Note 02.mkv\n",
      "-------------------1 / 180----------------------\n",
      "FileDuration --- /Users/sjegan/Downloads/untitled folder 3/Death Note 02.mkv = 23\n",
      "*****************FAILED***************/Users/sjegan/Downloads/untitled folder 3/Death Note 02.mkv\n",
      "/Users/sjegan/Downloads/untitled folder 3/Death Note 03.mkv\n",
      "-------------------2 / 180----------------------\n",
      "FileDuration --- /Users/sjegan/Downloads/untitled folder 3/Death Note 03.mkv = 23\n",
      "*****************FAILED***************/Users/sjegan/Downloads/untitled folder 3/Death Note 03.mkv\n",
      "/Users/sjegan/Downloads/untitled folder 3/Death Note 04.mkv\n",
      "-------------------3 / 180----------------------\n",
      "FileDuration --- /Users/sjegan/Downloads/untitled folder 3/Death Note 04.mkv = 23\n",
      "*****************FAILED***************/Users/sjegan/Downloads/untitled folder 3/Death Note 04.mkv\n",
      "/Users/sjegan/Downloads/untitled folder 3/Death Note 05.mkv\n",
      "-------------------4 / 180----------------------\n",
      "FileDuration --- /Users/sjegan/Downloads/untitled folder 3/Death Note 05.mkv = 23\n",
      "*****************FAILED***************/Users/sjegan/Downloads/untitled folder 3/Death Note 05.mkv\n",
      "/Users/sjegan/Downloads/untitled folder 3/Death Note 06.mkv\n",
      "-------------------5 / 180----------------------\n",
      "FileDuration --- /Users/sjegan/Downloads/untitled folder 3/Death Note 06.mkv = 23\n",
      "*****************FAILED***************/Users/sjegan/Downloads/untitled folder 3/Death Note 06.mkv\n",
      "/Users/sjegan/Downloads/untitled folder 3/Death Note 07.mkv\n",
      "-------------------6 / 180----------------------\n",
      "FileDuration --- /Users/sjegan/Downloads/untitled folder 3/Death Note 07.mkv = 23\n",
      "*****************FAILED***************/Users/sjegan/Downloads/untitled folder 3/Death Note 07.mkv\n",
      "/Users/sjegan/Downloads/untitled folder 3/Death Note 08.mkv\n",
      "-------------------7 / 180----------------------\n",
      "FileDuration --- /Users/sjegan/Downloads/untitled folder 3/Death Note 08.mkv = 23\n",
      "*****************FAILED***************/Users/sjegan/Downloads/untitled folder 3/Death Note 08.mkv\n",
      "/Users/sjegan/Downloads/untitled folder 3/Death Note 09.mkv\n",
      "-------------------8 / 180----------------------\n",
      "FileDuration --- /Users/sjegan/Downloads/untitled folder 3/Death Note 09.mkv = 23\n",
      "*****************FAILED***************/Users/sjegan/Downloads/untitled folder 3/Death Note 09.mkv\n",
      "/Users/sjegan/Downloads/untitled folder 3/Death Note 10.mkv\n",
      "-------------------9 / 180----------------------\n",
      "FileDuration --- /Users/sjegan/Downloads/untitled folder 3/Death Note 10.mkv = 23\n",
      "*****************FAILED***************/Users/sjegan/Downloads/untitled folder 3/Death Note 10.mkv\n",
      "/Users/sjegan/Downloads/untitled folder 3/Death Note 11.mkv\n",
      "-------------------10 / 180----------------------\n",
      "FileDuration --- /Users/sjegan/Downloads/untitled folder 3/Death Note 11.mkv = 23\n",
      "*****************FAILED***************/Users/sjegan/Downloads/untitled folder 3/Death Note 11.mkv\n",
      "/Users/sjegan/Downloads/untitled folder 3/Death Note 12.mkv\n",
      "-------------------11 / 180----------------------\n",
      "FileDuration --- /Users/sjegan/Downloads/untitled folder 3/Death Note 12.mkv = 23\n",
      "*****************FAILED***************/Users/sjegan/Downloads/untitled folder 3/Death Note 12.mkv\n",
      "/Users/sjegan/Downloads/untitled folder 3/Death Note 13.mkv\n",
      "-------------------12 / 180----------------------\n",
      "FileDuration --- /Users/sjegan/Downloads/untitled folder 3/Death Note 13.mkv = 23\n",
      "*****************FAILED***************/Users/sjegan/Downloads/untitled folder 3/Death Note 13.mkv\n",
      "/Users/sjegan/Downloads/untitled folder 3/Death Note 14.mkv\n",
      "-------------------13 / 180----------------------\n",
      "FileDuration --- /Users/sjegan/Downloads/untitled folder 3/Death Note 14.mkv = 23\n",
      "*****************FAILED***************/Users/sjegan/Downloads/untitled folder 3/Death Note 14.mkv\n",
      "/Users/sjegan/Downloads/untitled folder 3/Death Note 15.mkv\n",
      "-------------------14 / 180----------------------\n",
      "FileDuration --- /Users/sjegan/Downloads/untitled folder 3/Death Note 15.mkv = 23\n",
      "*****************FAILED***************/Users/sjegan/Downloads/untitled folder 3/Death Note 15.mkv\n",
      "/Users/sjegan/Downloads/untitled folder 3/Death Note 16.mkv\n",
      "-------------------15 / 180----------------------\n",
      "FileDuration --- /Users/sjegan/Downloads/untitled folder 3/Death Note 16.mkv = 23\n",
      "*****************FAILED***************/Users/sjegan/Downloads/untitled folder 3/Death Note 16.mkv\n",
      "/Users/sjegan/Downloads/untitled folder 3/Death Note 17.mkv\n",
      "-------------------16 / 180----------------------\n",
      "FileDuration --- /Users/sjegan/Downloads/untitled folder 3/Death Note 17.mkv = 23\n",
      "*****************FAILED***************/Users/sjegan/Downloads/untitled folder 3/Death Note 17.mkv\n",
      "/Users/sjegan/Downloads/untitled folder 3/Death Note 18.mkv\n",
      "-------------------17 / 180----------------------\n",
      "FileDuration --- /Users/sjegan/Downloads/untitled folder 3/Death Note 18.mkv = 23\n",
      "*****************FAILED***************/Users/sjegan/Downloads/untitled folder 3/Death Note 18.mkv\n",
      "/Users/sjegan/Downloads/untitled folder 3/Death Note 19.mkv\n",
      "-------------------18 / 180----------------------\n",
      "FileDuration --- /Users/sjegan/Downloads/untitled folder 3/Death Note 19.mkv = 23\n",
      "*****************FAILED***************/Users/sjegan/Downloads/untitled folder 3/Death Note 19.mkv\n",
      "/Users/sjegan/Downloads/untitled folder 3/Death Note 20.mkv\n",
      "-------------------19 / 180----------------------\n",
      "FileDuration --- /Users/sjegan/Downloads/untitled folder 3/Death Note 20.mkv = 23\n",
      "*****************FAILED***************/Users/sjegan/Downloads/untitled folder 3/Death Note 20.mkv\n",
      "/Users/sjegan/Downloads/untitled folder 3/Death Note 21.mkv\n",
      "-------------------20 / 180----------------------\n",
      "FileDuration --- /Users/sjegan/Downloads/untitled folder 3/Death Note 21.mkv = 23\n",
      "*****************FAILED***************/Users/sjegan/Downloads/untitled folder 3/Death Note 21.mkv\n",
      "/Users/sjegan/Downloads/untitled folder 3/Death Note 22.mkv\n",
      "-------------------21 / 180----------------------\n",
      "FileDuration --- /Users/sjegan/Downloads/untitled folder 3/Death Note 22.mkv = 23\n",
      "*****************FAILED***************/Users/sjegan/Downloads/untitled folder 3/Death Note 22.mkv\n",
      "/Users/sjegan/Downloads/untitled folder 3/Death Note 23.mkv\n",
      "-------------------22 / 180----------------------\n",
      "FileDuration --- /Users/sjegan/Downloads/untitled folder 3/Death Note 23.mkv = 23\n",
      "*****************FAILED***************/Users/sjegan/Downloads/untitled folder 3/Death Note 23.mkv\n",
      "/Users/sjegan/Downloads/untitled folder 3/Death Note 24.mkv\n",
      "-------------------23 / 180----------------------\n",
      "FileDuration --- /Users/sjegan/Downloads/untitled folder 3/Death Note 24.mkv = 23\n",
      "*****************FAILED***************/Users/sjegan/Downloads/untitled folder 3/Death Note 24.mkv\n",
      "/Users/sjegan/Downloads/untitled folder 3/Death Note 25.mkv\n",
      "-------------------24 / 180----------------------\n",
      "FileDuration --- /Users/sjegan/Downloads/untitled folder 3/Death Note 25.mkv = 23\n",
      "*****************FAILED***************/Users/sjegan/Downloads/untitled folder 3/Death Note 25.mkv\n",
      "/Users/sjegan/Downloads/untitled folder 3/Death Note 26.mkv\n",
      "-------------------25 / 180----------------------\n",
      "FileDuration --- /Users/sjegan/Downloads/untitled folder 3/Death Note 26.mkv = 23\n",
      "*****************FAILED***************/Users/sjegan/Downloads/untitled folder 3/Death Note 26.mkv\n",
      "/Users/sjegan/Downloads/untitled folder 3/Death Note 27.mkv\n",
      "-------------------26 / 180----------------------\n",
      "FileDuration --- /Users/sjegan/Downloads/untitled folder 3/Death Note 27.mkv = 23\n",
      "*****************FAILED***************/Users/sjegan/Downloads/untitled folder 3/Death Note 27.mkv\n",
      "/Users/sjegan/Downloads/untitled folder 3/Death Note 28.mkv\n",
      "-------------------27 / 180----------------------\n",
      "FileDuration --- /Users/sjegan/Downloads/untitled folder 3/Death Note 28.mkv = 23\n",
      "*****************FAILED***************/Users/sjegan/Downloads/untitled folder 3/Death Note 28.mkv\n",
      "/Users/sjegan/Downloads/untitled folder 3/Death Note 29.mkv\n",
      "-------------------28 / 180----------------------\n"
     ]
    }
   ],
   "source": [
    "\n",
    "shrinkImages(\"/Users/sjegan/Downloads/uuu/\")"
   ]
  },
  {
   "cell_type": "code",
   "execution_count": 3,
   "metadata": {
    "scrolled": true
   },
   "outputs": [
    {
     "name": "stdout",
     "output_type": "stream",
     "text": [
      "/Users/sjegan/Downloads/untitled folder 3/Burra katha 2019 www.9kmovies.asia Dual Audio Hindi 400MB UNCUT HDRip.mkv\n",
      "-------------------1 / 11----------------------\n",
      "/Users/sjegan/Downloads/untitled folder 3/Degree Wala Teacher (Charmsukh) S01 2019 www.9kmovies.asia Hindi Ullu Web Series 720p HDRip 150MB.mkv\n",
      "-------------------2 / 11----------------------\n",
      "/Users/sjegan/Downloads/untitled folder 3/Faltu (2019) S01 EP3 www.9kmovies.trade Fliz Movies Hindi Hot Web Series 720p HDRip 100MB.mkv\n",
      "-------------------3 / 11----------------------\n",
      "/Users/sjegan/Downloads/untitled folder 3/Indian Lovers smooching and pussy press in public - XVIDEOS.COM.mp4\n",
      "-------------------4 / 11----------------------\n",
      "/Users/sjegan/Downloads/untitled folder 3/Indian lady super figure getting with husband friend - XVIDEOS.COM.mp4\n",
      "-------------------5 / 11----------------------\n",
      "/Users/sjegan/Downloads/untitled folder 3/Khuda Aur Mohabbat 2019 Urdu 01 (Ep.1-12) www.9kmovies.trade Web Series 480p HDRip 1.2GB.mkv\n",
      "-------------------6 / 11----------------------\n",
      "/Users/sjegan/Downloads/untitled folder 3/Khuda Aur Mohabbat 2019 Urdu 01 (Ep.13-23) www.9kmovies.trade Web Series 480p HDRip 1.3GB.mkv\n",
      "-------------------7 / 11----------------------\n",
      "/Users/sjegan/Downloads/untitled folder 3/y2mate.com - usher_omg_tour_paris_bercy_trading_places_nUBE2Td-Dfo_360p.mp4\n",
      "-------------------8 / 11----------------------\n"
     ]
    }
   ],
   "source": [
    "\n",
    "dir_name = \"/Users/sjegan/Downloads/untitled folder 3\"\n",
    "dest_dir_name = \"/Users/sjegan/Downloads/dest\"\n",
    "bin_dir_name = \"/Users/sjegan/Downloads/dest/del\"\n",
    "shrinkTinyVideos(dir_name, dest_dir_name, bin_dir_name)\n"
   ]
  },
  {
   "cell_type": "code",
   "execution_count": 4,
   "metadata": {
    "scrolled": true
   },
   "outputs": [
    {
     "name": "stdout",
     "output_type": "stream",
     "text": [
      "<urllib3.response.HTTPResponse object at 0x10ff48c88>\n",
      "<urllib3.response.HTTPResponse object at 0x10ff698d0>\n",
      "<urllib3.response.HTTPResponse object at 0x10ff31da0>\n"
     ]
    }
   ],
   "source": [
    "\n",
    "urls = ['http://94.130.23.244/TV%20Shows%20A/Narcos/Season%201/',\n",
    "        'http://94.130.23.244/TV%20Shows%20A/Narcos/Season%202/',\n",
    "        'http://94.130.23.244/TV%20Shows%20A/Narcos/Season%203/', \n",
    "        ]\n",
    "convert = \"/Users/sjegan/Downloads/com2/\"\n",
    "extension = \"mkv\"\n",
    "downloadFromFTP(urls, convert, extension)\n"
   ]
  },
  {
   "cell_type": "code",
   "execution_count": 22,
   "metadata": {
    "scrolled": true
   },
   "outputs": [
    {
     "name": "stdout",
     "output_type": "stream",
     "text": [
      "0\n"
     ]
    }
   ],
   "source": [
    "\n",
    "dir_name = \"/Users/sjegan/Downloads/concat\"\n",
    "\n",
    "video_files_ffmpeg = \"/Users/sjegan/Downloads/video_list.txt\"\n",
    "output_file = \"/Users/sjegan/Downloads/BBB\"\n",
    "extension = \".mp4\"\n",
    "\n",
    "concatenateFiles(dir_name, video_files_ffmpeg, extension, output_file, group=None)\n",
    "\n",
    "\n",
    "\n"
   ]
  },
  {
   "cell_type": "code",
   "execution_count": null,
   "metadata": {
    "scrolled": true
   },
   "outputs": [],
   "source": [
    "dir_name = \"/Users/sjegan/Downloads/com/\"\n",
    "convert = \"/Users/sjegan/Downloads/com2/\"\n",
    "delfol = \"/Users/sjegan/Downloads/del/\"\n",
    "extractZip(dir_name, convert, delfol)\n"
   ]
  },
  {
   "cell_type": "code",
   "execution_count": null,
   "metadata": {
    "scrolled": true
   },
   "outputs": [],
   "source": [
    "dir_name = \"/Users/sjegan/Downloads/com2/\"\n",
    "restucturedir(dir_name)\n"
   ]
  },
  {
   "cell_type": "code",
   "execution_count": null,
   "metadata": {
    "scrolled": true
   },
   "outputs": [],
   "source": [
    "dir_name = \"/Users/sjegan/Downloads/com/\"\n",
    "convert = \"/Users/sjegan/Downloads/com2/\"\n",
    "delfol = \"/Users/sjegan/Downloads/del/\"\n",
    "finaldir = \"/Users/sjegan/Downloads/uuu/\"\n",
    "extractNShrink(dir_name, convert, delfol, finaldir)\n",
    "# numberingFiles(finaldir)"
   ]
  },
  {
   "cell_type": "code",
   "execution_count": null,
   "metadata": {
    "scrolled": true
   },
   "outputs": [],
   "source": [
    "finaldir = \"/Users/sjegan/Downloads/uuu/\"\n",
    "\n",
    "numberingFiles(finaldir)"
   ]
  },
  {
   "cell_type": "code",
   "execution_count": null,
   "metadata": {
    "scrolled": true
   },
   "outputs": [],
   "source": [
    "\n",
    "dirName = '/Users/sjegan/Downloads/uuu'\n",
    "makeZips(dirName)\n"
   ]
  },
  {
   "cell_type": "code",
   "execution_count": null,
   "metadata": {
    "scrolled": true
   },
   "outputs": [],
   "source": [
    "dir_name = '/Users/sjegan/Downloads/uuu'\n",
    "\n",
    "\n",
    "removeTxt(dir_name)"
   ]
  },
  {
   "cell_type": "code",
   "execution_count": null,
   "metadata": {
    "scrolled": true
   },
   "outputs": [],
   "source": [
    "dir_name = '/Users/sjegan/Downloads/uuu'\n",
    "renameNRestructure(dir_name)"
   ]
  },
  {
   "cell_type": "code",
   "execution_count": null,
   "metadata": {
    "scrolled": true
   },
   "outputs": [],
   "source": [
    "dir_name = '/Users/sjegan/Downloads/uuu'\n",
    "files = []\n",
    "folders = []\n",
    "onlyfiles = [(join(dir_name, f), f) for f in listdir(dir_name) if (not f.endswith('DS_Store')) and os.path.isdir(join(dir_name, f))]\n",
    "onlyfiles.sort()\n",
    "\n",
    "for (subf, title) in onlyfiles:\n",
    "#         print(subf)\n",
    "#         print(title)\n",
    "    title2 = title\n",
    "    files = [(join(subf, f), f) for f in listdir(subf) if (not f.endswith('DS_Store')) and os.path.isfile(join(subf, f))]\n",
    "    folders = [(join(subf, f), f) for f in listdir(subf) if (not f.endswith('DS_Store')) and os.path.isdir(join(subf, f))]\n",
    "    if len(folders) > 0:\n",
    "        os.chdir(subf)\n",
    "        result = []\n",
    "        for file in glob.glob(\"**/*.jpg\", recursive=True):\n",
    "            result.append((subf + \"/\"+file, file))\n",
    "        for file in glob.glob(\"**/*.jpeg\", recursive=True):\n",
    "            result.append((subf + \"/\"+ file, file))\n",
    "        for file in glob.glob(\"**/*.JPG\", recursive=True):\n",
    "            result.append((subf + \"/\"+ file, file))\n",
    "        for file in glob.glob(\"**/*.JPEG\", recursive=True):\n",
    "            result.append((subf + \"/\"+ file, file))\n",
    "        for file in glob.glob(\"**/*.png\", recursive=True):\n",
    "            result.append((subf + \"/\"+ file, file))\n",
    "        for file in glob.glob(\"**/*.PNG\", recursive=True):\n",
    "            result.append((subf + \"/\"+ file, file))\n",
    "        result.sort()\n",
    "        digits = 1 if len(result) < 10 else (2 if len(result) < 100 else (3 if len(result) < 1000 else 4))\n",
    "        j = 1\n",
    "        for (r, title) in result:\n",
    "            dest = (f'{subf}/{title2}{str(j).zfill(digits)} {os.path.basename(title)}')\n",
    "#             print(dest)\n",
    "#             break\n",
    "            shutil.move(src=r, dst=dest)\n",
    "            j = j+1\n",
    "\n",
    "    restucturedir(dir_name)\n",
    "    restucturedir(dir_name)\n",
    "    restucturedir(dir_name)"
   ]
  },
  {
   "cell_type": "code",
   "execution_count": null,
   "metadata": {
    "scrolled": true
   },
   "outputs": [],
   "source": [
    "import cv2\n",
    "import numpy as np\n",
    "inputfile = '/Users/sjegan/Downloads/uuu/'\n",
    "outputfile = '/Users/sjegan/Downloads/BBB2.mp4'\n",
    "cap = cv2.VideoCapture('C:/New folder/video.avi')\n",
    " \n",
    "fourcc = cv2.VideoWriter_fourcc(*'XVID')\n",
    "out = cv2.VideoWriter('output.avi',fourcc, 5, (480,360))\n",
    " \n",
    "while True:\n",
    "    ret, frame = cap.read()\n",
    "    if ret == True:\n",
    "        b = cv2.resize(frame,(480,360),fx=0,fy=0, interpolation = cv2.INTER_CUBIC)\n",
    "        out.write(b)\n",
    "    else:\n",
    "        break\n",
    "    \n",
    "cap.release()\n",
    "out.release()\n",
    "cv2.destroyAllWindows()"
   ]
  },
  {
   "cell_type": "code",
   "execution_count": null,
   "metadata": {
    "scrolled": true
   },
   "outputs": [],
   "source": [
    "import cv2"
   ]
  },
  {
   "cell_type": "code",
   "execution_count": null,
   "metadata": {
    "scrolled": true
   },
   "outputs": [],
   "source": [
    "import cv2\n",
    "import numpy as np\n",
    "inputfile = '/Users/sjegan/Downloads/concat/YouTube.mp4'\n",
    "outputfile = '/Users/sjegan/Downloads/YouTube.mp4'\n",
    "\n",
    "cap = cv2.VideoCapture(inputfile)\n",
    " \n",
    "fourcc = cv2.VideoWriter_fourcc(*'mp4v')\n",
    "out = cv2.VideoWriter(outputfile,fourcc, 20, (480,360))\n",
    " \n",
    "while True:\n",
    "    ret, frame = cap.read()\n",
    "    if ret == True:\n",
    "        b = cv2.resize(frame,(480,360),fx=0,fy=0, interpolation = cv2.INTER_NEAREST)\n",
    "        out.write(b)\n",
    "    else:\n",
    "        break\n",
    "    \n",
    "cap.release()\n",
    "out.release()\n",
    "cv2.destroyAllWindows()"
   ]
  },
  {
   "cell_type": "code",
   "execution_count": null,
   "metadata": {
    "scrolled": true
   },
   "outputs": [],
   "source": [
    "import moviepy.editor as mp\n",
    "clip = mp.VideoFileClip(inputfile)\n",
    "clip_resized = clip.resize(height=360) # make the height 360px ( According to moviePy documenation The width is then computed so that the width/height ratio is conserved.)\n",
    "clip_resized.write_videofile(outputfile)"
   ]
  },
  {
   "cell_type": "code",
   "execution_count": null,
   "metadata": {
    "scrolled": true
   },
   "outputs": [],
   "source": [
    "input_file = '/Users/sjegan/Downloads/concat/BBB186.mp4'\n",
    "output_file = '/Users/sjegan/Downloads/YouTube.mp4'\n",
    "import ffmpy\n",
    "crf = 18\n",
    "input_name = input_file\n",
    "output_name = output_file\n",
    "inp={input_name:None}\n",
    "outp = {output_name:'-af apad -shortest -avoid_negative_ts make_zero -fflags +genpts -vcodec libx264 -acodec aac -preset faster -tune film -strict -2 -filter:v scale=\"360:trunc(ow/a/2)*2\" -b:v 50k -b:a 30k -r 20 '}\n",
    "\n",
    "ff=ffmpy.FFmpeg(inputs=inp,outputs=outp)\n",
    "print(ff.cmd) # just to verify that it produces the correct ffmpeg command\n",
    "ff.run()"
   ]
  },
  {
   "cell_type": "code",
   "execution_count": 23,
   "metadata": {
    "scrolled": true
   },
   "outputs": [
    {
     "ename": "ValueError",
     "evalue": "Client secrets must be for a web or installed app.",
     "output_type": "error",
     "traceback": [
      "\u001b[0;31m---------------------------------------------------------------------------\u001b[0m",
      "\u001b[0;31mValueError\u001b[0m                                Traceback (most recent call last)",
      "\u001b[0;32m<ipython-input-23-496ada3d36cd>\u001b[0m in \u001b[0;36m<module>\u001b[0;34m\u001b[0m\n\u001b[1;32m     44\u001b[0m         \u001b[0;32mfor\u001b[0m \u001b[0mitem\u001b[0m \u001b[0;32min\u001b[0m \u001b[0mitems\u001b[0m\u001b[0;34m:\u001b[0m\u001b[0;34m\u001b[0m\u001b[0;34m\u001b[0m\u001b[0m\n\u001b[1;32m     45\u001b[0m             \u001b[0mprint\u001b[0m\u001b[0;34m(\u001b[0m\u001b[0;34mu'{0} ({1})'\u001b[0m\u001b[0;34m.\u001b[0m\u001b[0mformat\u001b[0m\u001b[0;34m(\u001b[0m\u001b[0mitem\u001b[0m\u001b[0;34m[\u001b[0m\u001b[0;34m'name'\u001b[0m\u001b[0;34m]\u001b[0m\u001b[0;34m,\u001b[0m \u001b[0mitem\u001b[0m\u001b[0;34m[\u001b[0m\u001b[0;34m'id'\u001b[0m\u001b[0;34m]\u001b[0m\u001b[0;34m)\u001b[0m\u001b[0;34m)\u001b[0m\u001b[0;34m\u001b[0m\u001b[0;34m\u001b[0m\u001b[0m\n\u001b[0;32m---> 46\u001b[0;31m \u001b[0mruntest\u001b[0m\u001b[0;34m(\u001b[0m\u001b[0;34m)\u001b[0m\u001b[0;34m\u001b[0m\u001b[0;34m\u001b[0m\u001b[0m\n\u001b[0m",
      "\u001b[0;32m<ipython-input-23-496ada3d36cd>\u001b[0m in \u001b[0;36mruntest\u001b[0;34m()\u001b[0m\n\u001b[1;32m     25\u001b[0m         \u001b[0;32melse\u001b[0m\u001b[0;34m:\u001b[0m\u001b[0;34m\u001b[0m\u001b[0;34m\u001b[0m\u001b[0m\n\u001b[1;32m     26\u001b[0m             flow = InstalledAppFlow.from_client_secrets_file(\n\u001b[0;32m---> 27\u001b[0;31m                 '/Users/sjegan/Downloads/tomdickcredentials.json', SCOPES)\n\u001b[0m\u001b[1;32m     28\u001b[0m             \u001b[0mcreds\u001b[0m \u001b[0;34m=\u001b[0m \u001b[0mflow\u001b[0m\u001b[0;34m.\u001b[0m\u001b[0mrun_local_server\u001b[0m\u001b[0;34m(\u001b[0m\u001b[0mport\u001b[0m\u001b[0;34m=\u001b[0m\u001b[0;36m0\u001b[0m\u001b[0;34m)\u001b[0m\u001b[0;34m\u001b[0m\u001b[0;34m\u001b[0m\u001b[0m\n\u001b[1;32m     29\u001b[0m         \u001b[0;31m# Save the credentials for the next run\u001b[0m\u001b[0;34m\u001b[0m\u001b[0;34m\u001b[0m\u001b[0;34m\u001b[0m\u001b[0m\n",
      "\u001b[0;32m~/anaconda3/lib/python3.7/site-packages/google_auth_oauthlib/flow.py\u001b[0m in \u001b[0;36mfrom_client_secrets_file\u001b[0;34m(cls, client_secrets_file, scopes, **kwargs)\u001b[0m\n\u001b[1;32m    197\u001b[0m             \u001b[0mclient_config\u001b[0m \u001b[0;34m=\u001b[0m \u001b[0mjson\u001b[0m\u001b[0;34m.\u001b[0m\u001b[0mload\u001b[0m\u001b[0;34m(\u001b[0m\u001b[0mjson_file\u001b[0m\u001b[0;34m)\u001b[0m\u001b[0;34m\u001b[0m\u001b[0;34m\u001b[0m\u001b[0m\n\u001b[1;32m    198\u001b[0m \u001b[0;34m\u001b[0m\u001b[0m\n\u001b[0;32m--> 199\u001b[0;31m         \u001b[0;32mreturn\u001b[0m \u001b[0mcls\u001b[0m\u001b[0;34m.\u001b[0m\u001b[0mfrom_client_config\u001b[0m\u001b[0;34m(\u001b[0m\u001b[0mclient_config\u001b[0m\u001b[0;34m,\u001b[0m \u001b[0mscopes\u001b[0m\u001b[0;34m=\u001b[0m\u001b[0mscopes\u001b[0m\u001b[0;34m,\u001b[0m \u001b[0;34m**\u001b[0m\u001b[0mkwargs\u001b[0m\u001b[0;34m)\u001b[0m\u001b[0;34m\u001b[0m\u001b[0;34m\u001b[0m\u001b[0m\n\u001b[0m\u001b[1;32m    200\u001b[0m \u001b[0;34m\u001b[0m\u001b[0m\n\u001b[1;32m    201\u001b[0m     \u001b[0;34m@\u001b[0m\u001b[0mproperty\u001b[0m\u001b[0;34m\u001b[0m\u001b[0;34m\u001b[0m\u001b[0m\n",
      "\u001b[0;32m~/anaconda3/lib/python3.7/site-packages/google_auth_oauthlib/flow.py\u001b[0m in \u001b[0;36mfrom_client_config\u001b[0;34m(cls, client_config, scopes, **kwargs)\u001b[0m\n\u001b[1;32m    157\u001b[0m         \u001b[0;32melse\u001b[0m\u001b[0;34m:\u001b[0m\u001b[0;34m\u001b[0m\u001b[0;34m\u001b[0m\u001b[0m\n\u001b[1;32m    158\u001b[0m             raise ValueError(\n\u001b[0;32m--> 159\u001b[0;31m                 'Client secrets must be for a web or installed app.')\n\u001b[0m\u001b[1;32m    160\u001b[0m \u001b[0;34m\u001b[0m\u001b[0m\n\u001b[1;32m    161\u001b[0m         \u001b[0;31m# these args cannot be passed to requests_oauthlib.OAuth2Session\u001b[0m\u001b[0;34m\u001b[0m\u001b[0;34m\u001b[0m\u001b[0;34m\u001b[0m\u001b[0m\n",
      "\u001b[0;31mValueError\u001b[0m: Client secrets must be for a web or installed app."
     ]
    }
   ],
   "source": [
    "import pickle\n",
    "import os.path\n",
    "from googleapiclient.discovery import build\n",
    "from google_auth_oauthlib.flow import InstalledAppFlow\n",
    "from google.auth.transport.requests import Request\n",
    "\n",
    "# If modifying these scopes, delete the file token.pickle.\n",
    "SCOPES = ['https://www.googleapis.com/auth/drive.metadata.readonly']\n",
    "\n",
    "def runtest():\n",
    "    \"\"\"Shows basic usage of the Drive v3 API.\n",
    "    Prints the names and ids of the first 10 files the user has access to.\n",
    "    \"\"\"\n",
    "    creds = None\n",
    "    # The file token.pickle stores the user's access and refresh tokens, and is\n",
    "    # created automatically when the authorization flow completes for the first\n",
    "    # time.\n",
    "    if os.path.exists('token.pickle'):\n",
    "        with open('token.pickle', 'rb') as token:\n",
    "            creds = pickle.load(token)\n",
    "    # If there are no (valid) credentials available, let the user log in.\n",
    "    if not creds or not creds.valid:\n",
    "        if creds and creds.expired and creds.refresh_token:\n",
    "            creds.refresh(Request())\n",
    "        else:\n",
    "            flow = InstalledAppFlow.from_client_secrets_file(\n",
    "                '/Users/sjegan/Downloads/tomdickcredentials.json', SCOPES)\n",
    "            creds = flow.run_local_server(port=0)\n",
    "        # Save the credentials for the next run\n",
    "        with open('token.pickle', 'wb') as token:\n",
    "            pickle.dump(creds, token)\n",
    "\n",
    "    service = build('drive', 'v3', credentials=creds)\n",
    "\n",
    "    # Call the Drive v3 API\n",
    "    results = service.files().list(\n",
    "        pageSize=10, fields=\"nextPageToken, files(id, name)\").execute()\n",
    "    items = results.get('files', [])\n",
    "\n",
    "    if not items:\n",
    "        print('No files found.')\n",
    "    else:\n",
    "        print('Files:')\n",
    "        for item in items:\n",
    "            print(u'{0} ({1})'.format(item['name'], item['id']))\n",
    "runtest()"
   ]
  },
  {
   "cell_type": "code",
   "execution_count": null,
   "metadata": {},
   "outputs": [],
   "source": [
    "from os.path import join, dirname\n",
    "from googleapiclient.discovery import build\n",
    "from httplib2 import Http\n",
    "from oauth2client import file, client, tools\n",
    "SCOPES = 'https://www.googleapis.com/auth/photoslibrary.readonly'\n",
    "\n",
    "store = file.Storage(join(dirname(__file__), 'token-for-google.json'))\n",
    "creds = store.get()\n",
    "if not creds or creds.invalid:\n",
    "    flow = client.flow_from_clientsecrets(join(dirname(__file__), 'client_id.json', SCOPES))\n",
    "    creds = tools.run_flow(flow, store)\n",
    "google_photos = build('photoslibrary', 'v1', http=creds.authorize(Http()))\n",
    "\n",
    "day, month, year = ('0', '6', '2019')  # Day or month may be 0 => full month resp. year\n",
    "date_filter = [{\"day\": day, \"month\": month, \"year\": year}]  # No leading zeroes for day an month!\n",
    "nextpagetoken = 'Dummy'\n",
    "while nextpagetoken != '':\n",
    "    nextpagetoken = '' if nextpagetoken == 'Dummy' else nextpagetoken\n",
    "    results = google_photos.mediaItems().search(\n",
    "            body={\"filters\":  {\"dateFilter\": {\"dates\": [{\"day\": day, \"month\": month, \"year\": year}]}},\n",
    "                  \"pageSize\": 10, \"pageToken\": nextpagetoken}).execute()\n",
    "    # The default number of media items to return at a time is 25. The maximum pageSize is 100.\n",
    "    items = results.get('mediaItems', [])\n",
    "    nextpagetoken = results.get('nextPageToken', '')\n",
    "    for item in items:\n",
    "            print(f\"{item['filename']} {item['mimeType']} '{item.get('description', '- -')}'\"\n",
    "                      f\" {item['mediaMetadata']['creationTime']}\\nURL: {item['productUrl']}\")"
   ]
  },
  {
   "cell_type": "code",
   "execution_count": 51,
   "metadata": {},
   "outputs": [
    {
     "name": "stdout",
     "output_type": "stream",
     "text": [
      "https://www.youtube.com/watch?v=9z0CqBfv0yY - Unavailable\n",
      "https://www.youtube.com/watch?v=frYxeK8wGGg - Unavailable\n",
      "https://www.youtube.com/watch?v=EmMq3F5NM4I - Unavailable\n",
      "https://www.youtube.com/watch?v=QMjttbi1LqY - Unavailable\n",
      "https://www.youtube.com/watch?v=4QAmSrf0Nc8 - Unavailable\n",
      "https://www.youtube.com/watch?v=DxmuMJHIg2Y - Unavailable\n",
      "https://www.youtube.com/watch?v=MCH6M876l9A - Unavailable\n",
      "https://www.youtube.com/watch?v=W7uZBZKsYvk - Unavailable\n",
      "https://www.youtube.com/watch?v=1cfG_fGPSWQ - Unavailable\n",
      "https://www.youtube.com/watch?v=TlTgYJGqpQ8 - Unavailable\n",
      "https://www.youtube.com/watch?v=JCOSgpH5CD0 - Unavailable\n",
      "https://www.youtube.com/watch?v=BZnW1A3Xgk0 - Unavailable\n",
      "https://www.youtube.com/watch?v=D8FS0PTicFs - Unavailable\n",
      "https://www.youtube.com/watch?v=AbFUJVsSVxQ - Unavailable\n",
      "https://www.youtube.com/watch?v=5xobEYENs8M - Unavailable\n",
      "https://www.youtube.com/watch?v=seq3d8aNOn4 - Unavailable\n",
      "https://www.youtube.com/watch?v=bE_5J2vNV3c - Unavailable\n",
      "https://www.youtube.com/watch?v=Fs_L3-A5sBw - Unavailable\n",
      "https://www.youtube.com/watch?v=cVbko1Y2nLQ - Unavailable\n",
      "https://www.youtube.com/watch?v=skgl7sz2eW4 - Unavailable\n",
      "https://www.youtube.com/watch?v=6xbGF3VAcOg - Unavailable\n",
      "https://www.youtube.com/watch?v=n6oZbel8tTQ - Unavailable\n",
      "https://www.youtube.com/watch?v=EVdvw13d__4 - Unavailable\n",
      "https://www.youtube.com/watch?v=VIAwd8hycrk - Unavailable\n",
      "https://www.youtube.com/watch?v=gHi6W1-0zEc - Unavailable\n",
      "https://www.youtube.com/watch?v=1sWQYXx25r0 - Unavailable\n",
      "https://www.youtube.com/watch?v=YF8UtXBO7Vs - Unavailable\n"
     ]
    }
   ],
   "source": [
    "from pytube import YouTube \n",
    "SAVE_PATH = \"E:/\" #to_do \n",
    "i = 1\n",
    "\n",
    "def downloadYoutube(link):\n",
    "#     link=\"https://www.youtube.com/watch?v=e6_hbN-KDxs\"\n",
    "    try:\n",
    "        yt = YouTube(link)\n",
    "    except:\n",
    "        print(link + \" - Unavailable\")\n",
    "        return\n",
    "    ttt = yt.streams.filter(subtype='mp4').all()\n",
    "    for t in ttt:\n",
    "        if t.resolution == \"360p\":\n",
    "            t.download('/Users/sjegan/Downloads/concat/')\n",
    "            break\n",
    "        \n",
    "for line in test.split('\\n'):\n",
    "    if line.find('watch') > -1:\n",
    "#         print(line)\n",
    "        downloadYoutube(line)\n",
    "\n",
    "        \n",
    "        \n",
    "# ttt[0].download('/Users/sjegan/Downloads/concat/')\n",
    "\n",
    "# yt.download('/path/to/download/directory')\n",
    "# ttt"
   ]
  },
  {
   "cell_type": "code",
   "execution_count": 25,
   "metadata": {},
   "outputs": [
    {
     "data": {
      "text/plain": [
       "'La vecina | Ricardo logra engañar a Isabel.mp4'"
      ]
     },
     "execution_count": 25,
     "metadata": {},
     "output_type": "execute_result"
    }
   ],
   "source": []
  },
  {
   "cell_type": "code",
   "execution_count": 10,
   "metadata": {},
   "outputs": [
    {
     "name": "stdout",
     "output_type": "stream",
     "text": [
      "Collecting pytube\n",
      "  Downloading https://files.pythonhosted.org/packages/1b/ba/9ef6d885d48e7a4305772471f41dc74cae080487e99aa617f27ec9e4f3d7/pytube-9.5.2-py3-none-any.whl\n",
      "Installing collected packages: pytube\n",
      "Successfully installed pytube-9.5.2\n"
     ]
    }
   ],
   "source": [
    "! pip install pytube"
   ]
  },
  {
   "cell_type": "code",
   "execution_count": null,
   "metadata": {},
   "outputs": [],
   "source": []
  },
  {
   "cell_type": "code",
   "execution_count": null,
   "metadata": {},
   "outputs": [],
   "source": []
  },
  {
   "cell_type": "code",
   "execution_count": 7,
   "metadata": {},
   "outputs": [
    {
     "data": {
      "text/plain": [
       "[]"
      ]
     },
     "execution_count": 7,
     "metadata": {},
     "output_type": "execute_result"
    }
   ],
   "source": [
    "files_final"
   ]
  },
  {
   "cell_type": "code",
   "execution_count": 9,
   "metadata": {},
   "outputs": [
    {
     "name": "stdout",
     "output_type": "stream",
     "text": [
      "https://www.youtube.com/watch?v=e6_hbN-KDxs\n"
     ]
    }
   ],
   "source": [
    "for line in test.split('\\n'):\n",
    "    print(line)\n",
    "    break"
   ]
  },
  {
   "cell_type": "code",
   "execution_count": 8,
   "metadata": {},
   "outputs": [
    {
     "ename": "ModuleNotFoundError",
     "evalue": "No module named 'libLPAPFF'",
     "output_type": "error",
     "traceback": [
      "\u001b[0;31m---------------------------------------------------------------------------\u001b[0m",
      "\u001b[0;31mModuleNotFoundError\u001b[0m                       Traceback (most recent call last)",
      "\u001b[0;32m<ipython-input-8-a1570e811e0e>\u001b[0m in \u001b[0;36m<module>\u001b[0;34m\u001b[0m\n\u001b[0;32m----> 1\u001b[0;31m \u001b[0;32mimport\u001b[0m \u001b[0mlibLPAPFF\u001b[0m\u001b[0;34m\u001b[0m\u001b[0;34m\u001b[0m\u001b[0m\n\u001b[0m",
      "\u001b[0;31mModuleNotFoundError\u001b[0m: No module named 'libLPAPFF'"
     ]
    }
   ],
   "source": [
    "import libLPAPFF"
   ]
  },
  {
   "cell_type": "code",
   "execution_count": 3,
   "metadata": {},
   "outputs": [
    {
     "name": "stderr",
     "output_type": "stream",
     "text": [
      "chunk:   0%|          | 35/292928 [00:00<14:19, 340.91it/s, now=None]"
     ]
    },
    {
     "name": "stdout",
     "output_type": "stream",
     "text": [
      "Moviepy - Building video /Users/sjegan/Downloads/BBB10.mp4.\n",
      "MoviePy - Writing audio in %s\n"
     ]
    },
    {
     "name": "stderr",
     "output_type": "stream",
     "text": [
      "t:   0%|          | 3/265694 [00:00<2:45:59, 26.68it/s, now=None]        "
     ]
    },
    {
     "name": "stdout",
     "output_type": "stream",
     "text": [
      "MoviePy - Done.\n",
      "Moviepy - Writing video /Users/sjegan/Downloads/BBB10.mp4\n",
      "\n"
     ]
    },
    {
     "name": "stderr",
     "output_type": "stream",
     "text": [
      "                                                                     \r"
     ]
    },
    {
     "name": "stdout",
     "output_type": "stream",
     "text": [
      "Moviepy - Done !\n",
      "Moviepy - video ready /Users/sjegan/Downloads/BBB10.mp4\n"
     ]
    },
    {
     "ename": "AttributeError",
     "evalue": "'VideoFileClip' object has no attribute '__del__'",
     "output_type": "error",
     "traceback": [
      "\u001b[0;31m---------------------------------------------------------------------------\u001b[0m",
      "\u001b[0;31mAttributeError\u001b[0m                            Traceback (most recent call last)",
      "\u001b[0;32m<ipython-input-3-5005c401161e>\u001b[0m in \u001b[0;36m<module>\u001b[0;34m\u001b[0m\n\u001b[1;32m     41\u001b[0m \u001b[0;34m\u001b[0m\u001b[0m\n\u001b[1;32m     42\u001b[0m         \u001b[0;32mfor\u001b[0m \u001b[0mo\u001b[0m \u001b[0;32min\u001b[0m \u001b[0mfiles_final\u001b[0m\u001b[0;34m:\u001b[0m\u001b[0;34m\u001b[0m\u001b[0;34m\u001b[0m\u001b[0m\n\u001b[0;32m---> 43\u001b[0;31m             \u001b[0mo\u001b[0m\u001b[0;34m.\u001b[0m\u001b[0m__del__\u001b[0m\u001b[0;34m(\u001b[0m\u001b[0;34m)\u001b[0m\u001b[0;34m\u001b[0m\u001b[0;34m\u001b[0m\u001b[0m\n\u001b[0m\u001b[1;32m     44\u001b[0m         \u001b[0mtempfiles\u001b[0m \u001b[0;34m=\u001b[0m \u001b[0;34m[\u001b[0m\u001b[0;34m]\u001b[0m\u001b[0;34m\u001b[0m\u001b[0;34m\u001b[0m\u001b[0m\n\u001b[1;32m     45\u001b[0m \u001b[0;32mif\u001b[0m \u001b[0mlen\u001b[0m\u001b[0;34m(\u001b[0m\u001b[0mtempfiles\u001b[0m\u001b[0;34m)\u001b[0m \u001b[0;34m>\u001b[0m \u001b[0;36m0\u001b[0m\u001b[0;34m:\u001b[0m\u001b[0;34m\u001b[0m\u001b[0;34m\u001b[0m\u001b[0m\n",
      "\u001b[0;31mAttributeError\u001b[0m: 'VideoFileClip' object has no attribute '__del__'"
     ]
    }
   ],
   "source": [
    "dir_name = \"/Users/sjegan/Downloads/concat\"\n",
    "\n",
    "video_files_ffmpeg = \"/Users/sjegan/Downloads/video_list.txt\"\n",
    "output_file = \"/Users/sjegan/Downloads/BBB\"\n",
    "extension = \".mp4\"\n",
    "group = 10\n",
    "\n",
    "from moviepy.editor import VideoFileClip, concatenate_videoclips\n",
    "\n",
    "# def concatenateFiles(dir_name, video_files_ffmpeg, extension, output_file, group=None):\n",
    "removeHyphen(dir_name)\n",
    "video_files = video_files_ffmpeg\n",
    "base_dir = dir_name\n",
    "\n",
    "files = []\n",
    "onlyfiles = [(join(dir_name, f), f) for f in listdir(dir_name) if isfile(join(dir_name, f))]\n",
    "onlyfiles.sort()\n",
    "for loc, filename in onlyfiles:\n",
    "    if loc.endswith(extension):\n",
    "        files.append(loc)\n",
    "files.sort()\n",
    "\n",
    "\n",
    "\n",
    "\n",
    "if group == None:\n",
    "    group = len(files)\n",
    "i = 0\n",
    "tempfiles = []\n",
    "for f in files:\n",
    "    tempfiles.append(f)\n",
    "    i = i + 1\n",
    "\n",
    "    if i % group == 0:\n",
    "        files_final = []\n",
    "        for tee in tempfiles:\n",
    "            files_final.append(VideoFileClip(tee))\n",
    "\n",
    "        final_clip = concatenate_videoclips(files_final)\n",
    "        final_clip.write_videofile(output_file + str(i) + extension)\n",
    "\n",
    "        for o in files_final:\n",
    "            o.__del__()\n",
    "        tempfiles = []\n",
    "if len(tempfiles) > 0:\n",
    "    files_final = []\n",
    "    for tee in tempfiles:\n",
    "        files_final.append(VideoFileClip(tee))\n",
    "    final_clip = concatenate_videoclips(files_final)\n",
    "    final_clip.write_videofile(output_file + str(i) + extension)\n",
    "    for o in files_final:\n",
    "        o.__del__()\n",
    "    tempfiles = []\n",
    "\n",
    "\n",
    "\n",
    "\n",
    "\n",
    "\n",
    "\n",
    "print(\"0\")"
   ]
  },
  {
   "cell_type": "code",
   "execution_count": null,
   "metadata": {},
   "outputs": [],
   "source": [
    "import moviepy.editor as mpe\n",
    "my_clip = mpe.VideoFileClip('some_clip.mp4')\n",
    "audio_background = mpe.AudioFileClip('some_background.mp3')\n",
    "final_audio = mpe.CompositeAudioClip([my_clip.audio, audio_background])\n",
    "final_clip = my_clip.set_audio(final_audio)"
   ]
  },
  {
   "cell_type": "code",
   "execution_count": 4,
   "metadata": {},
   "outputs": [
    {
     "name": "stdout",
     "output_type": "stream",
     "text": [
      "23\n"
     ]
    }
   ],
   "source": [
    "filename = \"/Users/sjegan/Downloads/untitled folder 3/Death Note 02.mkv\"\n",
    "from pymediainfo import MediaInfo\n",
    "media_info = MediaInfo.parse(filename)\n",
    "#duration in milliseconds\n",
    "duration_in_ms = media_info.tracks[0].duration\n",
    "print(round(duration_in_ms/(1000*60)))"
   ]
  },
  {
   "cell_type": "code",
   "execution_count": 11,
   "metadata": {},
   "outputs": [],
   "source": [
    "dir_name = \"/Users/sjegan/Downloads/untitled folder 3\"\n",
    "dest_dir_name = \"/Users/sjegan/Downloads/dest\"\n",
    "bin_dir_name = \"/Users/sjegan/Downloads/dest/del\"\n",
    "# shrinkVideos(dir_name, dest_dir_name, bin_dir_name)\n",
    "\n",
    "\n"
   ]
  },
  {
   "cell_type": "code",
   "execution_count": 12,
   "metadata": {},
   "outputs": [
    {
     "data": {
      "text/plain": [
       "9829"
      ]
     },
     "execution_count": 12,
     "metadata": {},
     "output_type": "execute_result"
    }
   ],
   "source": [
    "dur"
   ]
  },
  {
   "cell_type": "code",
   "execution_count": 2,
   "metadata": {},
   "outputs": [
    {
     "data": {
      "text/plain": [
       "datetime.datetime(2020, 1, 13, 4, 38, 57, 734236)"
      ]
     },
     "execution_count": 2,
     "metadata": {},
     "output_type": "execute_result"
    }
   ],
   "source": [
    "import datetime\n",
    "datetime.datetime.now() + datetime.timedelta(minutes = round(9000 * 12))"
   ]
  },
  {
   "cell_type": "code",
   "execution_count": 9,
   "metadata": {},
   "outputs": [
    {
     "data": {
      "text/plain": [
       "'Thu Oct 31 18:12:51 2019'"
      ]
     },
     "execution_count": 9,
     "metadata": {},
     "output_type": "execute_result"
    }
   ],
   "source": [
    "import time\n",
    "time.ctime(time.time() + round(9000 * 15))"
   ]
  },
  {
   "cell_type": "code",
   "execution_count": 8,
   "metadata": {},
   "outputs": [
    {
     "data": {
      "text/plain": [
       "'Wed Oct 30 04:43:06 2019'"
      ]
     },
     "execution_count": 8,
     "metadata": {},
     "output_type": "execute_result"
    }
   ],
   "source": [
    "time.ctime(time.time()+ )"
   ]
  },
  {
   "cell_type": "code",
   "execution_count": null,
   "metadata": {},
   "outputs": [],
   "source": [
    "12 min 60 sec\n",
    "1 min 15 sec\n",
    "9000 * 15\n"
   ]
  },
  {
   "cell_type": "code",
   "execution_count": 7,
   "metadata": {},
   "outputs": [],
   "source": [
    "from pydub import AudioSegment\n",
    "sound = AudioSegment.from_file('/Users/sjegan/Downloads/Review/test.wav')\n",
    "octaves = 0.5\n",
    "new_sample_rate = int(sound.frame_rate * (2.0 ** octaves))\n",
    "chipmunk_sound = sound._spawn(sound.raw_data, overrides={'frame_rate': new_sample_rate})\n",
    "chipmunk_ready_to_export = chipmunk_sound.speedup(44100)"
   ]
  },
  {
   "cell_type": "code",
   "execution_count": 2,
   "metadata": {},
   "outputs": [
    {
     "name": "stdout",
     "output_type": "stream",
     "text": [
      "Collecting pydub\n",
      "  Downloading https://files.pythonhosted.org/packages/79/db/eaf620b73a1eec3c8c6f8f5b0b236a50f9da88ad57802154b7ba7664d0b8/pydub-0.23.1-py2.py3-none-any.whl\n",
      "Installing collected packages: pydub\n",
      "Successfully installed pydub-0.23.1\n"
     ]
    }
   ],
   "source": []
  },
  {
   "cell_type": "code",
   "execution_count": 6,
   "metadata": {},
   "outputs": [
    {
     "data": {
      "text/html": [
       "\n",
       "                    <audio controls>\n",
       "                        <source src=\"data:audio/mpeg;base64,SUQzBAAAAAAAI1RTU0UAAAAPAAADTGF2ZjU2LjQwLjEwMQAAAAAAAAAAAAAA//tUwAAAAAAAAAAAAAAAAAAAAAAASW5mbwAAAA8AAAAEAAADwABmZmZmZmZmZmZmZmZmZmZmZmZmZmZmZmaZmZmZmZmZmZmZmZmZmZmZmZmZmZmZmZmZzMzMzMzMzMzMzMzMzMzMzMzMzMzMzMzMzP////////////////////////////////8AAAAATGF2YzU2LjYwAAAAAAAAAAAAAAAAJAAAAAAAAAAAA8AMGHXBAAAAAAAAAAAAAAAAAAAA//tUxAAABhwBR7QRgAGtFCq3HoAAMAABFkSAJJTiZQEHFwfiA/DGIDhdQP6wcBAEAQOP/38CAhKBgHz+BAQ//f//wQ5cPlItptyNO2uApxuOApFN52PRZ4CnUr87UYXC6msy2xcSCKWIjQSDxI0oq7wEhBD13UWuRUo4pampv/9e8z5qG4gmT5NspECEsSLAsaChg8sImkANj3KG+cug+1POMBkqeWEGVaJKTPrf//8RKmEwBZeFS/ElMBADiRKE//tUxAcACyzFP/z0AAFWGWUkwYqQwiQmidKhfFyUR6LqNftgqFHVYZjte+/KNVWleNe7hVr//2bZvia/1WGa9r//9VqGOBkNLOrI3Q5rUNWAhYeRKuaKgq6Q/2eVDWnDSv8T1zagHBNdDWgSBOcOODgO5bLBZhVLAbOuVjfipZ9yGHuhkfRYt5buzhUyETV9mWtHmmI27Myn9ltZic4RwEeUg8FUXh4MHMTqzeSRZ5oos73fexMJGSQ0kAobZgNg//tUxAUACfynISSM00D4AeCkkwgIZhCXki6JFLUkLPSJkTTFSalD4AiVyjQ+MpBjVWqARw1Jvy9Zs5GFDAy9IiJoKlVBQKjAWPJJL7+3Hukga/1L0HtPkauAngAhAMoCAMPIgyRoCRhJQVBZTBoS4FvDR52SPQ67EqxE1ZE6PVLAUzxLJdbvqHu+SPEeWNazrXEumS1LcieQTEFNRTMuOTkuNaqqqqqqqqqqqqqqqqqqqqqqqqqqqqqqqqqqqqqq//tUxBODwAABpAAAACAAADSAAAAEqqqqqqqqqqqqqqqqqqqqqqqqqqqqqqqqqqqqqqqqqqqqqqqqqqqqqqqqqqqqqqqqqqqqqqqqqqqqqqqqqqqqqqqqqqqqqqqqqqqqqqqqqqqqqqqqqqqqqqqqqqqqqqqqqqqqqqqqqqqqqqqqqqqqqqqqqqqqqqqqqqqqqqqqqqqqqqqqqqqqqqqqqqqqqqqqqqqqqqqqqqqqqqqqqqqqqqqqqqqqqqqqqqqq\" type=\"audio/mpeg\"/>\n",
       "                        Your browser does not support the audio element.\n",
       "                    </audio>\n",
       "                  "
      ],
      "text/plain": [
       "<pydub.audio_segment.AudioSegment at 0x1142da208>"
      ]
     },
     "execution_count": 6,
     "metadata": {},
     "output_type": "execute_result"
    }
   ],
   "source": [
    "chipmunk_ready_to_export"
   ]
  },
  {
   "cell_type": "code",
   "execution_count": null,
   "metadata": {},
   "outputs": [],
   "source": []
  }
 ],
 "metadata": {
  "kernelspec": {
   "display_name": "Python 3",
   "language": "python",
   "name": "python3"
  },
  "language_info": {
   "codemirror_mode": {
    "name": "ipython",
    "version": 3
   },
   "file_extension": ".py",
   "mimetype": "text/x-python",
   "name": "python",
   "nbconvert_exporter": "python",
   "pygments_lexer": "ipython3",
   "version": "3.7.3"
  }
 },
 "nbformat": 4,
 "nbformat_minor": 2
}
