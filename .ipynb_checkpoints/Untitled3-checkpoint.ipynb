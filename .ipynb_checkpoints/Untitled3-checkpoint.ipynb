{
 "cells": [
  {
   "cell_type": "code",
   "execution_count": 1,
   "metadata": {},
   "outputs": [],
   "source": [
    "\n",
    "import math\n",
    "import os\n",
    "import random\n",
    "import re\n",
    "import sys\n",
    "from collections import Counter\n",
    "\n",
    "# Complete the twoStrings function below.\n",
    "def twoStrings(s1, s2):\n",
    "    for c in set(list(s1)):\n",
    "        if c in list(s2):\n",
    "            return \"YES\"\n",
    "    return \"NO\"\n",
    "    "
   ]
  },
  {
   "cell_type": "code",
   "execution_count": 2,
   "metadata": {},
   "outputs": [],
   "source": [
    "import math\n",
    "import os\n",
    "import random\n",
    "import re\n",
    "import sys\n",
    "\n",
    "# Complete the rotLeft function below.\n",
    "def rotLeft(a, d):\n",
    "    i = 0\n",
    "    res = []\n",
    "    while(i<len(a)):\n",
    "        res.append(a[(i+d)%len(a)])\n",
    "\n",
    "        i +=1\n",
    "    return res"
   ]
  },
  {
   "cell_type": "code",
   "execution_count": 3,
   "metadata": {},
   "outputs": [],
   "source": [
    "\n",
    "import math\n",
    "import os\n",
    "import random\n",
    "import re\n",
    "import sys\n",
    "\n",
    "# Complete the hourglassSum function below.\n",
    "def hourglassSum(arr):\n",
    "    n = len(arr)\n",
    "    m = len(arr[0])\n",
    "    result = -sys.maxsize\n",
    "    for i in range(1, n-1):\n",
    "        for j in range(1, m-1):\n",
    "            result = max(result, arr[i-1][j-1]+arr[i-1][j]+arr[i-1][j+1]+arr[i+1][j-1]+arr[i+1][j]+arr[i+1][j+1]+arr[i][j])\n",
    "    return result\n"
   ]
  },
  {
   "cell_type": "code",
   "execution_count": 4,
   "metadata": {},
   "outputs": [],
   "source": [
    "import os\n",
    "import sys\n",
    "\n",
    "#\n",
    "# Complete the simpleArraySum function below.\n",
    "#\n",
    "def simpleArraySum(ar):\n",
    "    #\n",
    "    # Write your code here.\n",
    "    #\n",
    "    return sum(ar)"
   ]
  },
  {
   "cell_type": "code",
   "execution_count": 5,
   "metadata": {},
   "outputs": [],
   "source": [
    "import math\n",
    "import os\n",
    "import random\n",
    "import re\n",
    "import sys\n",
    "\n",
    "# Complete the diagonalDifference function below.\n",
    "def diagonalDifference(arr):\n",
    "    # print(arr)\n",
    "    n = len(arr)\n",
    "    d1 = d2 = 0\n",
    "    for i in range(0, n):\n",
    "        d1 = d1 + arr[i][i]\n",
    "        d2 = d2 + arr[i][n-1-i]\n",
    "    return abs(d1-d2)"
   ]
  },
  {
   "cell_type": "code",
   "execution_count": 7,
   "metadata": {},
   "outputs": [
    {
     "ename": "SyntaxError",
     "evalue": "invalid syntax (<ipython-input-7-2980cf7f9c97>, line 18)",
     "output_type": "error",
     "traceback": [
      "\u001b[0;36m  File \u001b[0;32m\"<ipython-input-7-2980cf7f9c97>\"\u001b[0;36m, line \u001b[0;32m18\u001b[0m\n\u001b[0;31m    print (f'{plus / n}\\n{minus / n}\\n{zeros / n}')\u001b[0m\n\u001b[0m                                                 ^\u001b[0m\n\u001b[0;31mSyntaxError\u001b[0m\u001b[0;31m:\u001b[0m invalid syntax\n"
     ]
    }
   ],
   "source": [
    "\n",
    "import math\n",
    "import os\n",
    "import random\n",
    "import re\n",
    "import sys\n",
    "\n",
    "# Complete the plusMinus function below.\n",
    "def plusMinus(arr):\n",
    "    n = len(arr)\n",
    "    plus = 0\n",
    "    minus = 0\n",
    "    zeros = 0\n",
    "    for i in range(0, n):\n",
    "        plus += (1 if arr[i] > 0 else 0)\n",
    "        minus += (1 if arr[i] < 0 else 0)\n",
    "        zeros += (1 if arr[i] == 0 else 0)\n",
    "    print (f'{plus / n}\\n{minus / n}\\n{zeros / n}')\n"
   ]
  },
  {
   "cell_type": "code",
   "execution_count": 8,
   "metadata": {},
   "outputs": [],
   "source": [
    "import math\n",
    "import os\n",
    "import random\n",
    "import re\n",
    "import sys\n",
    "\n",
    "# Complete the staircase function below.\n",
    "def staircase(n):\n",
    "    stair = \"\"\n",
    "    for i in range(n-1, -1, -1):\n",
    "        for j in range(0, i):\n",
    "            stair += \" \"\n",
    "        for k in range(i, n):\n",
    "            stair += \"#\"\n",
    "        print(stair)\n",
    "        stair = \"\"\n"
   ]
  },
  {
   "cell_type": "code",
   "execution_count": 9,
   "metadata": {},
   "outputs": [],
   "source": [
    "import os\n",
    "import sys\n",
    "\n",
    "#\n",
    "# Complete the timeConversion function below.\n",
    "#\n",
    "def timeConversion(s):\n",
    "    #\n",
    "    # Write your code here.\n",
    "    #\n",
    "    time = s\n",
    "    h, m, s = map(int, time[:-2].split(':'))\n",
    "    p = time[-2:]\n",
    "    h = h % 12 + (p.upper() == 'PM') * 12\n",
    "    return(('%02d:%02d:%02d') % (h, m, s))\n"
   ]
  },
  {
   "cell_type": "code",
   "execution_count": 10,
   "metadata": {},
   "outputs": [],
   "source": [
    "import math\n",
    "import os\n",
    "import random\n",
    "import re\n",
    "import sys\n",
    "\n",
    "# Complete the sockMerchant function below.\n",
    "def sockMerchant(n, ar):\n",
    "    lookup = [False]* n\n",
    "    result = 0\n",
    "    for item in ar:\n",
    "        if lookup[item%n] is True:\n",
    "            result += 1\n",
    "            lookup[item%n] = False\n",
    "        else:\n",
    "            lookup[item%n] = True\n",
    "    return result"
   ]
  },
  {
   "cell_type": "code",
   "execution_count": 1,
   "metadata": {},
   "outputs": [],
   "source": [
    "import math\n",
    "import os\n",
    "import random\n",
    "import re\n",
    "import sys\n",
    "\n",
    "class LookUp(object):\n",
    "    def __init__(self, input1):\n",
    "        self.store = [0] * len(input1)\n",
    "    def get(self, i):\n",
    "        return 0 if i < 0 else self.store[i]\n",
    "    def set(self, i, value):\n",
    "        self.store[i] = value\n",
    "# Complete the repeatedString function below.\n",
    "def repeatedString(s, n):\n",
    "    str_len = len(s)\n",
    "    lookup = LookUp(s)\n",
    "    for i in range(0, str_len):\n",
    "        if(s[i] == 'a'):\n",
    "            lookup.set(i, lookup.get(i-1) + 1)\n",
    "        else:\n",
    "            lookup.set(i, lookup.get(i-1))\n",
    "    print(lookup.get(len(s)-1))\n",
    "    pre_calc = int(n / str_len) * lookup.get(len(s)-1)\n",
    "    remaining_letters = n % str_len\n",
    "    return pre_calc + lookup.get(remaining_letters - 1)\n"
   ]
  },
  {
   "cell_type": "code",
   "execution_count": 4,
   "metadata": {},
   "outputs": [],
   "source": [
    "import math\n",
    "import os\n",
    "import random\n",
    "import re\n",
    "import sys\n",
    "from collections import Counter\n",
    "\n",
    "# Complete the twoStrings function below.\n",
    "def twoStrings(s1, s2):\n",
    "    for c in set(list(s1)):\n",
    "        if c in list(s2):\n",
    "            return \"YES\"\n",
    "    return \"NO\"\n",
    "    "
   ]
  },
  {
   "cell_type": "code",
   "execution_count": 5,
   "metadata": {},
   "outputs": [],
   "source": [
    "\n",
    "import math\n",
    "import os\n",
    "import random\n",
    "import re\n",
    "import sys\n",
    "\n",
    "# Complete the superDigit function below.\n",
    "def superDigit(n, k):\n",
    "    c = list(str(n))\n",
    "    s = list(map(lambda x: int(ord(x)-ord('0')), c))\n",
    "    t = sum(s) * k\n",
    "    while int(t / 10) > 0:\n",
    "        c = list(str(t))\n",
    "        s = list(map(lambda x: int(ord(x)-ord('0')), c))\n",
    "        t = sum(s)\n",
    "    return t\n"
   ]
  },
  {
   "cell_type": "code",
   "execution_count": 10,
   "metadata": {},
   "outputs": [],
   "source": [
    "\n",
    "\n",
    "# Enter your code here. Read input from STDIN. Print output to STDOUT\n",
    "'''\n",
    "class Node:\n",
    "      def __init__(self,info): \n",
    "          self.info = info  \n",
    "          self.left = None  \n",
    "          self.right = None \n",
    "           \n",
    "\n",
    "       // this is a node of the tree , which contains info as data, left , right\n",
    "'''\n",
    "\n",
    "def lca(root, v1, v2):\n",
    "  #Enter your code here\n",
    "  if root is None:\n",
    "      return None\n",
    "  if min(v1, v2) <= root.info <= max(v1, v2):\n",
    "      return root\n",
    "  elif min(v1, v2) <= root.info:\n",
    "      return lca(root.left, v1, v2)\n",
    "  elif root.info <= max(v1, v2):\n",
    "      return lca(root.right, v1, v2)\n",
    "  return None\n"
   ]
  },
  {
   "cell_type": "code",
   "execution_count": null,
   "metadata": {},
   "outputs": [],
   "source": [
    "\n",
    "class Node(object):\n",
    "    def __init__(self, value):\n",
    "        self.value = value\n",
    "        self.left = None\n",
    "        self.right = None\n",
    "    def insert(self, value):\n",
    "        if(value > self.value):\n",
    "            if(self.right == None):\n",
    "                self.right = Node(value)\n",
    "            else:\n",
    "                self.right.insert(value)\n",
    "        else:\n",
    "            if(self.left == None):\n",
    "                self.left = Node(value)\n",
    "            else:\n",
    "                self.left.insert(value)\n",
    "    def printTree(self, node):\n",
    "        if(node.left):\n",
    "            printTree(node.left)\n",
    "        if(self.left == None and self.right == None):\n",
    "        if(node.right):\n",
    "            printTree(node.right)\n",
    "    "
   ]
  },
  {
   "cell_type": "code",
   "execution_count": 8,
   "metadata": {},
   "outputs": [],
   "source": [
    "import math\n",
    "import os\n",
    "import random\n",
    "import re\n",
    "import sys\n",
    "import collections\n",
    "# Complete the isBalanced function below.\n",
    "def isBalanced(s):\n",
    "    ss = []\n",
    "    opening = ['{', '[', '(']\n",
    "    closing = ['}', ']', ')']\n",
    "    m = {'}':'{', ']':'[', ')':'('}\n",
    "    for c in list(s):\n",
    "        if(c in opening):\n",
    "            ss.append(c)\n",
    "            continue\n",
    "        if(c in closing):\n",
    "            if(len(ss) == 0):\n",
    "                return \"NO\"\n",
    "            if(ss.pop() != m[c]):\n",
    "                return \"NO\"\n",
    "    if(len(ss) == 0):\n",
    "        return \"YES\"\n",
    "    return \"NO\"\n"
   ]
  },
  {
   "cell_type": "code",
   "execution_count": 9,
   "metadata": {},
   "outputs": [
    {
     "data": {
      "text/plain": [
       "'NO'"
      ]
     },
     "execution_count": 9,
     "metadata": {},
     "output_type": "execute_result"
    }
   ],
   "source": [
    "isBalanced('[()')"
   ]
  },
  {
   "cell_type": "code",
   "execution_count": 12,
   "metadata": {},
   "outputs": [],
   "source": [
    "class Lookup(object):\n",
    "    def __init__(self, n):\n",
    "        self.store = [[0]*n]*n\n",
    "    def setValue(self, i, j, value):\n",
    "        if(0 <= i < n and 0  j < n):\n",
    "            self.store[i][j]=value\n",
    "    def getValue(self, i, j):\n",
    "        if(0 <= i < n and 0  j < n):\n",
    "            return self.store[i][j]\n",
    "        return 0\n",
    "    \n",
    "arr = [1,3,4,2]"
   ]
  },
  {
   "cell_type": "code",
   "execution_count": null,
   "metadata": {},
   "outputs": [],
   "source": [
    "def maxSubsetSum(arr):\n",
    "    "
   ]
  },
  {
   "cell_type": "code",
   "execution_count": null,
   "metadata": {},
   "outputs": [],
   "source": [
    "lookup = Lookup(len(arr))\n",
    "\n",
    "for i in range(0, len(arr)):\n",
    "    lookup.setValue(i, i, arr[i])\n",
    "\n",
    "for i in range(0, len(arr)):\n",
    "    for j in range(0, i):\n",
    "        if()"
   ]
  }
 ],
 "metadata": {
  "kernelspec": {
   "display_name": "Python 2",
   "language": "python",
   "name": "python2"
  },
  "language_info": {
   "codemirror_mode": {
    "name": "ipython",
    "version": 2
   },
   "file_extension": ".py",
   "mimetype": "text/x-python",
   "name": "python",
   "nbconvert_exporter": "python",
   "pygments_lexer": "ipython2",
   "version": "2.7.16"
  }
 },
 "nbformat": 4,
 "nbformat_minor": 2
}
